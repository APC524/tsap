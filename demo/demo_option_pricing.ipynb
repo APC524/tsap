{
 "cells": [
  {
   "cell_type": "code",
   "execution_count": 2,
   "metadata": {
    "collapsed": false
   },
   "outputs": [],
   "source": [
    "import sys\n",
    "if \"../\" not in sys.path:\n",
    "    sys.path.append(\"../\")\n",
    "\n",
    "import matplotlib.pyplot as plt\n",
    "import numpy as np\n",
    "from tsap.option_pricing import OptionPricing\n",
    "\n",
    "# read GOOG data\n",
    "goog = np.genfromtxt(\"../data/GOOG.csv\", delimiter=\",\")\n",
    "\n",
    "# set Black-Scholes equation parameters\n",
    "sigma = np.std((goog[1:] - goog[:-1]) / goog[:-1])\n",
    "r = 0.005\n",
    "T = 90\n",
    "K = 800\n",
    "Smax = K*2.5\n",
    "\n",
    "# test optionPricing class\n",
    "option_price = OptionPricing(sigma=sigma, r=r, T=T, K=K, Smax=Smax)\n",
    "nS = 100\n",
    "nt = 300\n",
    "option_price.solve_black_scholes(nS=nS, nt=nt)"
   ]
  },
  {
   "cell_type": "code",
   "execution_count": 2,
   "metadata": {
    "collapsed": false
   },
   "outputs": [
    {
     "data": {
      "image/png": "[encoded data removed]",
      "text/plain": [
       "<matplotlib.figure.Figure at 0x104d41b00>"
      ]
     },
     "metadata": {},
     "output_type": "display_data"
    }
   ],
   "source": [
    "# define (S,t) grids\n",
    "S = np.linspace(0, Smax, nS + 1)\n",
    "t = np.linspace(0, T, nt + 1)\n",
    "t, S = np.meshgrid(t, S)\n",
    "levels = np.arange(0, Smax, float(Smax) / nS)\n",
    "\n",
    "# visualize V(S,t)\n",
    "%matplotlib inline\n",
    "plt.rcParams['figure.figsize'] = (5.0, 4.0) # set default size of plots\n",
    "plt.rcParams['image.interpolation'] = 'nearest'\n",
    "plt.rcParams['image.cmap'] = 'gray'\n",
    "%load_ext autoreload\n",
    "%autoreload 2\n",
    "plt.figure()\n",
    "plt.contourf(\n",
    "    t, S, option_price.V, levels,\n",
    "    cmap=plt.cm.coolwarm, linewidth=0, antialiased=False)\n",
    "plt.colorbar()\n",
    "plt.xlabel(\"Time\", fontsize=12)   \n",
    "plt.ylabel(\"Stock price\", fontsize=12)\n",
    "plt.xlim([0,T])\n",
    "plt.ylim([0,Smax])\n",
    "plt.title(\"Option price V(S,t)\", fontsize=12)\n",
    "plt.show()"
   ]
  },
  {
   "cell_type": "code",
   "execution_count": null,
   "metadata": {
    "collapsed": true
   },
   "outputs": [],
   "source": []
  }
 ],
 "metadata": {
  "anaconda-cloud": {},
  "kernelspec": {
   "display_name": "Python 2",
   "language": "python",
   "name": "python2"
  },
  "language_info": {
   "codemirror_mode": {
    "name": "ipython",
    "version": 2
   },
   "file_extension": ".py",
   "mimetype": "text/x-python",
   "name": "python",
   "nbconvert_exporter": "python",
   "pygments_lexer": "ipython2",
   "version": "2.7.13"
  }
 },
 "nbformat": 4,
 "nbformat_minor": 1
}

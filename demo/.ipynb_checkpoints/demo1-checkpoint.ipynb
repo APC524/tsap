{
 "cells": [
  {
   "cell_type": "code",
   "execution_count": 1,
   "metadata": {
    "collapsed": false
   },
   "outputs": [],
   "source": [
    "\n",
    "# load the packages needed\n",
    "import numpy as np\n",
    "import sys\n",
    "if \"../\" not in sys.path:\n",
    "  sys.path.append(\"../\") \n",
    "from src.solver import Solver\n",
    "from src.model import AR, MA\n",
    "from src.gradient_check import eval_numerical_gradient, eval_numerical_gradient_array\n",
    "import src.data_processor as dp\n",
    "import src.inference \n",
    "from src.ts_gen import ar1_gen\n",
    "data = np.loadtxt(\"../data/SP500array.csv\", delimiter=',')"
   ]
  },
  {
   "cell_type": "code",
   "execution_count": 2,
   "metadata": {
    "collapsed": false
   },
   "outputs": [],
   "source": [
    "X=np.array([data[0:100,0]])\n",
    "Y=dp.get_return(X)\n",
    "X = ar1_gen(0.5, sigma = 1, time = 200, num = 1, burnin = 2000)"
   ]
  },
  {
   "cell_type": "code",
   "execution_count": 3,
   "metadata": {
    "collapsed": false
   },
   "outputs": [
    {
     "data": {
      "text/plain": [
       "{'intercept': 0.1, 'phi': array([[-0.54758961]]), 'sigma': 1.0}"
      ]
     },
     "execution_count": 3,
     "metadata": {},
     "output_type": "execute_result"
    }
   ],
   "source": [
    "lag = 1\n",
    "sigma = 1.0\n",
    "intercept = 0.1\n",
    "phi = np.random.randn(1, 1)\n",
    "AR_model = AR(lag=lag, phi=phi, sigma=sigma, intercept=intercept)\n",
    "AR_model.params"
   ]
  },
  {
   "cell_type": "code",
   "execution_count": 4,
   "metadata": {
    "collapsed": false
   },
   "outputs": [
    {
     "name": "stdout",
     "output_type": "stream",
     "text": [
      "1000\n",
      "the loss is %f [ 880.91355836]\n",
      "the loss is %f [ 814.40009722]\n",
      "the loss is %f [ 674.99272544]\n",
      "the loss is %f [ 1990.93001841]\n",
      "the loss is %f [ 1990.92950991]\n",
      "the loss is %f [ 1990.92900141]\n",
      "the loss is %f [ 1990.92849291]\n",
      "the loss is %f [ 1990.92798441]\n",
      "the loss is %f [ 1990.9274759]\n",
      "the loss is %f [ 1990.92696739]\n",
      "the loss is %f [ 1990.92645888]\n",
      "the loss is %f [ 1990.92595036]\n",
      "the loss is %f [ 1990.92544184]\n",
      "the loss is %f [ 1990.92493332]\n",
      "the loss is %f [ 1990.9244248]\n",
      "the loss is %f [ 1990.92391627]\n",
      "the loss is %f [ 1990.92340775]\n",
      "the loss is %f [ 1990.92289921]\n",
      "the loss is %f [ 1990.92239068]\n",
      "the loss is %f [ 1990.92188215]\n",
      "the loss is %f [ 1990.92137361]\n",
      "the loss is %f [ 1990.92086507]\n",
      "the loss is %f [ 1990.92035652]\n",
      "the loss is %f [ 1990.91984798]\n",
      "the loss is %f [ 1990.91933943]\n",
      "the loss is %f [ 1990.91883087]\n",
      "the loss is %f [ 1990.91832232]\n",
      "the loss is %f [ 1990.91781376]\n",
      "the loss is %f [ 1990.9173052]\n",
      "the loss is %f [ 1990.91679664]\n",
      "the loss is %f [ 1990.91628808]\n",
      "the loss is %f [ 1990.91577951]\n",
      "the loss is %f [ 1990.91527094]\n",
      "the loss is %f [ 1990.91476237]\n",
      "the loss is %f [ 1990.91425379]\n",
      "the loss is %f [ 1990.91374522]\n",
      "the loss is %f [ 1990.91323664]\n",
      "the loss is %f [ 1990.91272805]\n",
      "the loss is %f [ 1990.91221947]\n",
      "the loss is %f [ 1990.91171088]\n",
      "the loss is %f [ 1990.91120229]\n",
      "the loss is %f [ 1990.9106937]\n",
      "the loss is %f [ 1990.9101851]\n",
      "the loss is %f [ 1990.9096765]\n",
      "the loss is %f [ 1990.9091679]\n",
      "the loss is %f [ 1990.9086593]\n",
      "the loss is %f [ 1990.90815069]\n",
      "the loss is %f [ 1990.90764208]\n",
      "the loss is %f [ 1990.90713347]\n",
      "the loss is %f [ 1990.90662486]\n",
      "the loss is %f [ 1990.90611624]\n",
      "the loss is %f [ 1990.90560762]\n",
      "the loss is %f [ 1990.905099]\n",
      "the loss is %f [ 1990.90459037]\n",
      "the loss is %f [ 1990.90408175]\n",
      "the loss is %f [ 1990.90357312]\n",
      "the loss is %f [ 1990.90306449]\n",
      "the loss is %f [ 1990.90255585]\n",
      "the loss is %f [ 1990.90204721]\n",
      "the loss is %f [ 1990.90153857]\n",
      "the loss is %f [ 1990.90102993]\n",
      "the loss is %f [ 1990.90052129]\n",
      "the loss is %f [ 1990.90001264]\n",
      "the loss is %f [ 1990.89950399]\n",
      "the loss is %f [ 1990.89899534]\n",
      "the loss is %f [ 1990.89848668]\n",
      "the loss is %f [ 1990.89797802]\n",
      "the loss is %f [ 1990.89746936]\n",
      "the loss is %f [ 1990.8969607]\n",
      "the loss is %f [ 1990.89645203]\n",
      "the loss is %f [ 1990.89594336]\n",
      "the loss is %f [ 1990.89543469]\n",
      "the loss is %f [ 1990.89492602]\n",
      "the loss is %f [ 1990.89441734]\n",
      "the loss is %f [ 1990.89390866]\n",
      "the loss is %f [ 1990.89339998]\n",
      "the loss is %f [ 1990.8928913]\n",
      "the loss is %f [ 1990.89238261]\n",
      "the loss is %f [ 1990.89187392]\n",
      "the loss is %f [ 1990.89136523]\n",
      "the loss is %f [ 1990.89085653]\n",
      "the loss is %f [ 1990.89034784]\n",
      "the loss is %f [ 1990.88983914]\n",
      "the loss is %f [ 1990.88933043]\n",
      "the loss is %f [ 1990.88882173]\n",
      "the loss is %f [ 1990.88831302]\n",
      "the loss is %f [ 1990.88780431]\n",
      "the loss is %f [ 1990.8872956]\n",
      "the loss is %f [ 1990.88678688]\n",
      "the loss is %f [ 1990.88627817]\n",
      "the loss is %f [ 1990.88576945]\n",
      "the loss is %f [ 1990.88526072]\n",
      "the loss is %f [ 1990.884752]\n",
      "the loss is %f [ 1990.88424327]\n",
      "the loss is %f [ 1990.88373454]\n",
      "the loss is %f [ 1990.8832258]\n",
      "the loss is %f [ 1990.88271707]\n",
      "the loss is %f [ 1990.88220833]\n",
      "the loss is %f [ 1990.88169959]\n",
      "the loss is %f [ 1990.88119084]\n"
     ]
    }
   ],
   "source": [
    "_, grads = AR_model.loss(X)\n",
    "solver = Solver(AR_model, X,\n",
    "                          update_rule='sgd',\n",
    "                          optim_config={\n",
    "                            'learning_rate': 1e-1,\n",
    "                          },\n",
    "                          \n",
    "                          num_epochs=1000, batch_size=1,\n",
    "                          print_every=10)\n",
    "solver.train()"
   ]
  },
  {
   "cell_type": "code",
   "execution_count": 5,
   "metadata": {
    "collapsed": false
   },
   "outputs": [
    {
     "data": {
      "text/plain": [
       "{'intercept': array([ 44.810697]),\n",
       " 'phi': array([[-546.59304594]]),\n",
       " 'sigma': array([-8806.18555627])}"
      ]
     },
     "execution_count": 5,
     "metadata": {},
     "output_type": "execute_result"
    }
   ],
   "source": [
    "AR_model.params"
   ]
  },
  {
   "cell_type": "code",
   "execution_count": 9,
   "metadata": {
    "collapsed": false
   },
   "outputs": [
    {
     "data": {
      "text/plain": [
       "array([[ -2.89425513e+01,   3.26105967e+02,  -4.10108895e+03,\n",
       "          5.11027883e+04,  -6.37249119e+05,   7.94599488e+06,\n",
       "         -9.90807697e+07,   1.23546458e+09,  -1.54053382e+10,\n",
       "          1.92093281e+11]])"
      ]
     },
     "execution_count": 9,
     "metadata": {},
     "output_type": "execute_result"
    }
   ],
   "source": [
    "AR_model.predict(X,10)"
   ]
  },
  {
   "cell_type": "code",
   "execution_count": 23,
   "metadata": {
    "collapsed": false
   },
   "outputs": [
    {
     "name": "stdout",
     "output_type": "stream",
     "text": [
      "[-0.19558968 -0.04886918  0.04002632]\n",
      "0.000119593894429\n"
     ]
    }
   ],
   "source": [
    "from src.ts_gen import ar1_gen\n",
    "import src.inference as inf\n",
    "\n",
    "x = ar1_gen(0.5, sigma = 1, time = 200, num = 1, burnin = 2000)\n",
    "X=np.array([data[0:100,0]])\n",
    "Y=dp.get_return(X)\n",
    "\n",
    "y = inf.yule_walker(x, order =1, method = \"mle\")\n",
    "phi,sigma = inf.yule_walker(Y, order =3, method = \"mle\")\n",
    "print phi \n",
    "print sigma\n",
    "\n"
   ]
  },
  {
   "cell_type": "code",
   "execution_count": 24,
   "metadata": {
    "collapsed": false
   },
   "outputs": [
    {
     "data": {
      "text/plain": [
       "array([-0.19558968, -0.04886918,  0.04002632])"
      ]
     },
     "execution_count": 24,
     "metadata": {},
     "output_type": "execute_result"
    }
   ],
   "source": [
    "\n",
    "phi"
   ]
  },
  {
   "cell_type": "code",
   "execution_count": 25,
   "metadata": {
    "collapsed": true
   },
   "outputs": [],
   "source": [
    "AR_model = AR(lag=3, phi=phi, sigma=sigma, intercept=0)"
   ]
  },
  {
   "cell_type": "code",
   "execution_count": 26,
   "metadata": {
    "collapsed": false
   },
   "outputs": [
    {
     "data": {
      "text/plain": [
       "array([[ -1.47296356e-03,  -4.76342358e-04,   5.03069047e-04,\n",
       "         -1.34073966e-04,  -1.74273183e-05,   3.00966910e-05,\n",
       "         -1.04014310e-05,  -1.33939402e-07,   1.73916635e-06,\n",
       "         -7.49948493e-07]])"
      ]
     },
     "execution_count": 26,
     "metadata": {},
     "output_type": "execute_result"
    }
   ],
   "source": [
    "rt=AR_model.predict(Y,10)\n",
    "rt"
   ]
  },
  {
   "cell_type": "code",
   "execution_count": 27,
   "metadata": {
    "collapsed": false
   },
   "outputs": [
    {
     "data": {
      "text/plain": [
       "array([[ 47.23232588,  47.20982712,  47.23357692,  47.22724413,\n",
       "         47.22642109,  47.22784244,  47.22735121,  47.22734488,\n",
       "         47.22742702,  47.2273916 ]])"
      ]
     },
     "execution_count": 27,
     "metadata": {},
     "output_type": "execute_result"
    }
   ],
   "source": [
    "dp.get_price(X[0,99],rt)"
   ]
  },
  {
   "cell_type": "code",
   "execution_count": 15,
   "metadata": {
    "collapsed": false
   },
   "outputs": [
    {
     "data": {
      "text/plain": [
       "1"
      ]
     },
     "execution_count": 15,
     "metadata": {},
     "output_type": "execute_result"
    }
   ],
   "source": [
    "X.shape[0]"
   ]
  },
  {
   "cell_type": "code",
   "execution_count": 18,
   "metadata": {
    "collapsed": false
   },
   "outputs": [
    {
     "data": {
      "text/plain": [
       "array([ 47.543,  46.906,  47.235,  47.235,  47.157,  46.984,  46.762,\n",
       "        46.752,  46.501,  46.81 ])"
      ]
     },
     "execution_count": 18,
     "metadata": {},
     "output_type": "execute_result"
    }
   ],
   "source": [
    "data[100:110,0]"
   ]
  },
  {
   "cell_type": "code",
   "execution_count": null,
   "metadata": {
    "collapsed": true
   },
   "outputs": [],
   "source": []
  }
 ],
 "metadata": {
  "anaconda-cloud": {},
  "kernelspec": {
   "display_name": "Python [default]",
   "language": "python",
   "name": "python2"
  },
  "language_info": {
   "codemirror_mode": {
    "name": "ipython",
    "version": 2
   },
   "file_extension": ".py",
   "mimetype": "text/x-python",
   "name": "python",
   "nbconvert_exporter": "python",
   "pygments_lexer": "ipython2",
   "version": "2.7.12"
  }
 },
 "nbformat": 4,
 "nbformat_minor": 1
}

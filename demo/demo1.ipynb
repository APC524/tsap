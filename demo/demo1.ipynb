{
 "cells": [
  {
   "cell_type": "code",
   "execution_count": 4,
   "metadata": {
    "collapsed": false
   },
   "outputs": [],
   "source": [
    "import numpy as np\n",
    "# load the packages needed\n",
    "import numpy as np\n",
    "import sys\n",
    "if \"../\" not in sys.path:\n",
    "  sys.path.append(\"../\") \n",
    "from src.solver import Solver\n",
    "from src.model import AR, MA\n",
    "from src.gradient_check import eval_numerical_gradient, eval_numerical_gradient_array\n",
    "import src.data_processor as dp\n",
    "import src.inference \n",
    "from src.ts_gen import ar1_gen\n",
    "data = np.loadtxt(\"../data/SP500array.csv\", delimiter=',')"
   ]
  },
  {
   "cell_type": "code",
   "execution_count": 5,
   "metadata": {
    "collapsed": false
   },
   "outputs": [],
   "source": [
    "X=np.array([data[0:100,0]])\n",
    "Y=dp.get_return(X)\n",
    "X = ar1_gen(0.5, sigma = 1, time = 200, num = 1, burnin = 2000)"
   ]
  },
  {
   "cell_type": "code",
   "execution_count": 6,
   "metadata": {
    "collapsed": false
   },
   "outputs": [
    {
     "data": {
      "text/plain": [
       "{'intercept': 0.1, 'phi': array([[ 1.51929746]]), 'sigma': 1.0}"
      ]
     },
     "execution_count": 6,
     "metadata": {},
     "output_type": "execute_result"
    }
   ],
   "source": [
    "lag = 1\n",
    "sigma = 1.0\n",
    "intercept = 0.1\n",
    "phi = np.random.randn(1, 1)\n",
    "AR_model = AR(lag=lag, phi=phi, sigma=sigma, intercept=intercept)\n",
    "AR_model.params"
   ]
  },
  {
   "cell_type": "code",
   "execution_count": 7,
   "metadata": {
    "collapsed": false
   },
   "outputs": [
    {
     "name": "stdout",
     "output_type": "stream",
     "text": [
      "1000\n",
      "the loss is %f 891.160872084\n",
      "the loss is %f 830.121537038\n",
      "the loss is %f 721.9494163\n",
      "the loss is %f 857.772929289\n",
      "the loss is %f 703.089417167\n",
      "the loss is %f 565.760784033\n",
      "the loss is %f 799.518095465\n",
      "the loss is %f 587.912825792\n",
      "the loss is %f 1056.2462628\n",
      "the loss is %f 1049.61391039\n",
      "the loss is %f 1042.52670301\n",
      "the loss is %f 1034.91639422\n",
      "the loss is %f 1026.69817065\n",
      "the loss is %f 1017.76481525\n",
      "the loss is %f 1007.97805109\n",
      "the loss is %f 997.15525593\n",
      "the loss is %f 985.048219133\n",
      "the loss is %f 971.307437763\n",
      "the loss is %f 955.418262452\n",
      "the loss is %f 936.577221137\n",
      "the loss is %f 913.425538483\n",
      "the loss is %f 883.381332173\n",
      "the loss is %f 840.521878272\n",
      "the loss is %f 765.115958775\n",
      "the loss is %f 343.569257975\n",
      "the loss is %f 947.281130317\n",
      "the loss is %f 926.674885385\n",
      "the loss is %f 900.787957276\n",
      "the loss is %f 865.944540219\n",
      "the loss is %f 812.494149028\n",
      "the loss is %f 694.204139209\n",
      "the loss is %f 1611.03890608\n",
      "the loss is %f 1259.3588443\n",
      "the loss is %f 1258.56523473\n",
      "the loss is %f 1257.76524722\n",
      "the loss is %f 1256.95877845\n",
      "the loss is %f 1256.14572254\n",
      "the loss is %f 1255.325971\n",
      "the loss is %f 1254.49941266\n",
      "the loss is %f 1253.66593353\n",
      "the loss is %f 1252.82541675\n",
      "the loss is %f 1251.97774247\n",
      "the loss is %f 1251.12278774\n",
      "the loss is %f 1250.26042644\n",
      "the loss is %f 1249.39052912\n",
      "the loss is %f 1248.51296293\n",
      "the loss is %f 1247.62759145\n",
      "the loss is %f 1246.73427461\n",
      "the loss is %f 1245.83286853\n",
      "the loss is %f 1244.92322537\n",
      "the loss is %f 1244.00519321\n",
      "the loss is %f 1243.07861592\n",
      "the loss is %f 1242.14333291\n",
      "the loss is %f 1241.19917906\n",
      "the loss is %f 1240.24598452\n",
      "the loss is %f 1239.28357447\n",
      "the loss is %f 1238.31176901\n",
      "the loss is %f 1237.3303829\n",
      "the loss is %f 1236.33922537\n",
      "the loss is %f 1235.33809991\n",
      "the loss is %f 1234.326804\n",
      "the loss is %f 1233.3051289\n",
      "the loss is %f 1232.27285937\n",
      "the loss is %f 1231.22977342\n",
      "the loss is %f 1230.17564199\n",
      "the loss is %f 1229.11022867\n",
      "the loss is %f 1228.0332894\n",
      "the loss is %f 1226.94457208\n",
      "the loss is %f 1225.84381627\n",
      "the loss is %f 1224.7307528\n",
      "the loss is %f 1223.60510336\n",
      "the loss is %f 1222.46658009\n",
      "the loss is %f 1221.31488515\n",
      "the loss is %f 1220.14971025\n",
      "the loss is %f 1218.97073613\n",
      "the loss is %f 1217.77763206\n",
      "the loss is %f 1216.57005528\n",
      "the loss is %f 1215.34765043\n",
      "the loss is %f 1214.11004884\n",
      "the loss is %f 1212.85686799\n",
      "the loss is %f 1211.58771068\n",
      "the loss is %f 1210.30216435\n",
      "the loss is %f 1208.99980025\n",
      "the loss is %f 1207.68017258\n",
      "the loss is %f 1206.34281758\n",
      "the loss is %f 1204.98725255\n",
      "the loss is %f 1203.61297481\n",
      "the loss is %f 1202.21946057\n",
      "the loss is %f 1200.80616373\n",
      "the loss is %f 1199.37251463\n",
      "the loss is %f 1197.91791862\n",
      "the loss is %f 1196.44175461\n",
      "the loss is %f 1194.94337349\n",
      "the loss is %f 1193.42209639\n",
      "the loss is %f 1191.87721285\n",
      "the loss is %f 1190.30797881\n",
      "the loss is %f 1188.7136145\n",
      "the loss is %f 1187.09330206\n",
      "the loss is %f 1185.44618307\n",
      "the loss is %f 1183.77135579\n"
     ]
    }
   ],
   "source": [
    "_, grads = AR_model.loss(X)\n",
    "solver = Solver(AR_model, X,\n",
    "                          update_rule='sgd',\n",
    "                          optim_config={\n",
    "                            'learning_rate': 1e-1,\n",
    "                          },\n",
    "                          \n",
    "                          num_epochs=1000, batch_size=1,\n",
    "                          print_every=10)\n",
    "solver.train()"
   ]
  },
  {
   "cell_type": "code",
   "execution_count": 8,
   "metadata": {
    "collapsed": false
   },
   "outputs": [
    {
     "data": {
      "text/plain": [
       "{'intercept': -34.78644430473394,\n",
       " 'phi': array([[-12.4692674]]),\n",
       " 'sigma': 148.41166912490422}"
      ]
     },
     "execution_count": 8,
     "metadata": {},
     "output_type": "execute_result"
    }
   ],
   "source": [
    "AR_model.params"
   ]
  },
  {
   "cell_type": "code",
   "execution_count": 9,
   "metadata": {
    "collapsed": false
   },
   "outputs": [
    {
     "data": {
      "text/plain": [
       "array([[ -2.89425513e+01,   3.26105967e+02,  -4.10108895e+03,\n",
       "          5.11027883e+04,  -6.37249119e+05,   7.94599488e+06,\n",
       "         -9.90807697e+07,   1.23546458e+09,  -1.54053382e+10,\n",
       "          1.92093281e+11]])"
      ]
     },
     "execution_count": 9,
     "metadata": {},
     "output_type": "execute_result"
    }
   ],
   "source": [
    "AR_model.predict(X,10)"
   ]
  },
  {
   "cell_type": "code",
   "execution_count": 23,
   "metadata": {
    "collapsed": false
   },
   "outputs": [
    {
     "name": "stdout",
     "output_type": "stream",
     "text": [
      "[-0.19558968 -0.04886918  0.04002632]\n",
      "0.000119593894429\n"
     ]
    }
   ],
   "source": [
    "from src.ts_gen import ar1_gen\n",
    "import src.inference as inf\n",
    "\n",
    "x = ar1_gen(0.5, sigma = 1, time = 200, num = 1, burnin = 2000)\n",
    "X=np.array([data[0:100,0]])\n",
    "Y=dp.get_return(X)\n",
    "\n",
    "y = inf.yule_walker(x, order =1, method = \"mle\")\n",
    "phi,sigma = inf.yule_walker(Y, order =3, method = \"mle\")\n",
    "print phi \n",
    "print sigma\n",
    "\n"
   ]
  },
  {
   "cell_type": "code",
   "execution_count": 24,
   "metadata": {
    "collapsed": false
   },
   "outputs": [
    {
     "data": {
      "text/plain": [
       "array([-0.19558968, -0.04886918,  0.04002632])"
      ]
     },
     "execution_count": 24,
     "metadata": {},
     "output_type": "execute_result"
    }
   ],
   "source": [
    "\n",
    "phi"
   ]
  },
  {
   "cell_type": "code",
   "execution_count": 25,
   "metadata": {
    "collapsed": true
   },
   "outputs": [],
   "source": [
    "AR_model = AR(lag=3, phi=phi, sigma=sigma, intercept=0)"
   ]
  },
  {
   "cell_type": "code",
   "execution_count": 26,
   "metadata": {
    "collapsed": false
   },
   "outputs": [
    {
     "data": {
      "text/plain": [
       "array([[ -1.47296356e-03,  -4.76342358e-04,   5.03069047e-04,\n",
       "         -1.34073966e-04,  -1.74273183e-05,   3.00966910e-05,\n",
       "         -1.04014310e-05,  -1.33939402e-07,   1.73916635e-06,\n",
       "         -7.49948493e-07]])"
      ]
     },
     "execution_count": 26,
     "metadata": {},
     "output_type": "execute_result"
    }
   ],
   "source": [
    "rt=AR_model.predict(Y,10)\n",
    "rt"
   ]
  },
  {
   "cell_type": "code",
   "execution_count": 27,
   "metadata": {
    "collapsed": false
   },
   "outputs": [
    {
     "data": {
      "text/plain": [
       "array([[ 47.23232588,  47.20982712,  47.23357692,  47.22724413,\n",
       "         47.22642109,  47.22784244,  47.22735121,  47.22734488,\n",
       "         47.22742702,  47.2273916 ]])"
      ]
     },
     "execution_count": 27,
     "metadata": {},
     "output_type": "execute_result"
    }
   ],
   "source": [
    "dp.get_price(X[0,99],rt)"
   ]
  },
  {
   "cell_type": "code",
   "execution_count": 15,
   "metadata": {
    "collapsed": false
   },
   "outputs": [
    {
     "data": {
      "text/plain": [
       "1"
      ]
     },
     "execution_count": 15,
     "metadata": {},
     "output_type": "execute_result"
    }
   ],
   "source": [
    "X.shape[0]"
   ]
  },
  {
   "cell_type": "code",
   "execution_count": 18,
   "metadata": {
    "collapsed": false
   },
   "outputs": [
    {
     "data": {
      "text/plain": [
       "array([ 47.543,  46.906,  47.235,  47.235,  47.157,  46.984,  46.762,\n",
       "        46.752,  46.501,  46.81 ])"
      ]
     },
     "execution_count": 18,
     "metadata": {},
     "output_type": "execute_result"
    }
   ],
   "source": [
    "data[100:110,0]"
   ]
  },
  {
   "cell_type": "code",
   "execution_count": null,
   "metadata": {
    "collapsed": true
   },
   "outputs": [],
   "source": []
  }
 ],
 "metadata": {
  "anaconda-cloud": {},
  "kernelspec": {
   "display_name": "Python [default]",
   "language": "python",
   "name": "python2"
  },
  "language_info": {
   "codemirror_mode": {
    "name": "ipython",
    "version": 2
   },
   "file_extension": ".py",
   "mimetype": "text/x-python",
   "name": "python",
   "nbconvert_exporter": "python",
   "pygments_lexer": "ipython2",
   "version": "2.7.12"
  }
 },
 "nbformat": 4,
 "nbformat_minor": 1
}

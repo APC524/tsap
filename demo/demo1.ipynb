{
 "cells": [
  {
   "cell_type": "code",
   "execution_count": 23,
   "metadata": {
    "collapsed": false
   },
   "outputs": [],
   "source": [
    "import numpy as np\n",
    "# load the packages needed\n",
    "import numpy as np\n",
    "import sys\n",
    "if \"../\" not in sys.path:\n",
    "  sys.path.append(\"../\") \n",
    "from src.solver import Solver\n",
    "from src.model import AR, MA\n",
    "from src.gradient_check import eval_numerical_gradient, eval_numerical_gradient_array\n",
    "import src.data_processor as dp\n",
    "import src.inference \n",
    "from src.ts_gen import ar1_gen\n",
    "data = np.loadtxt(\"../data/SP500array.csv\", delimiter=',')"
   ]
  },
  {
   "cell_type": "code",
   "execution_count": 2,
   "metadata": {
    "collapsed": false
   },
   "outputs": [],
   "source": [
    "X=np.array([data[0:100,0]])\n",
    "Y=dp.get_return(X)\n",
    "X = ar1_gen(0.5, sigma = 1, time = 200, num = 1, burnin = 2000)"
   ]
  },
  {
   "cell_type": "code",
   "execution_count": 3,
   "metadata": {
    "collapsed": false
   },
   "outputs": [
    {
     "data": {
      "text/plain": [
       "{'intercept': 0.1, 'phi': array([[ 1.11071189]]), 'sigma': 1.0}"
      ]
     },
     "execution_count": 3,
     "metadata": {},
     "output_type": "execute_result"
    }
   ],
   "source": [
    "lag = 1\n",
    "sigma = 1.0\n",
    "intercept = 0.1\n",
    "phi = np.random.randn(1, 1)\n",
    "AR_model = AR(lag=lag, phi=phi, sigma=sigma, intercept=intercept)\n",
    "AR_model.params"
   ]
  },
  {
   "cell_type": "code",
   "execution_count": 4,
   "metadata": {
    "collapsed": false
   },
   "outputs": [
    {
     "name": "stdout",
     "output_type": "stream",
     "text": [
      "1000\n",
      "the loss is %f 615.179003938\n",
      "the loss is %f 1121.88258826\n",
      "the loss is %f 1474.10942806\n",
      "the loss is %f 1474.01624738\n",
      "the loss is %f 1473.92297996\n",
      "the loss is %f 1473.82962565\n",
      "the loss is %f 1473.73618428\n",
      "the loss is %f 1473.64265569\n",
      "the loss is %f 1473.54903972\n",
      "the loss is %f 1473.4553362\n",
      "the loss is %f 1473.36154497\n",
      "the loss is %f 1473.26766586\n",
      "the loss is %f 1473.17369871\n",
      "the loss is %f 1473.07964335\n",
      "the loss is %f 1472.98549962\n",
      "the loss is %f 1472.89126735\n",
      "the loss is %f 1472.79694638\n",
      "the loss is %f 1472.70253653\n",
      "the loss is %f 1472.60803763\n",
      "the loss is %f 1472.51344953\n",
      "the loss is %f 1472.41877205\n",
      "the loss is %f 1472.32400502\n",
      "the loss is %f 1472.22914827\n",
      "the loss is %f 1472.13420163\n",
      "the loss is %f 1472.03916493\n",
      "the loss is %f 1471.944038\n",
      "the loss is %f 1471.84882067\n",
      "the loss is %f 1471.75351276\n",
      "the loss is %f 1471.6581141\n",
      "the loss is %f 1471.56262453\n",
      "the loss is %f 1471.46704386\n",
      "the loss is %f 1471.37137192\n",
      "the loss is %f 1471.27560853\n",
      "the loss is %f 1471.17975353\n",
      "the loss is %f 1471.08380673\n",
      "the loss is %f 1470.98776796\n",
      "the loss is %f 1470.89163704\n",
      "the loss is %f 1470.79541379\n",
      "the loss is %f 1470.69909804\n",
      "the loss is %f 1470.60268961\n",
      "the loss is %f 1470.50618832\n",
      "the loss is %f 1470.40959399\n",
      "the loss is %f 1470.31290645\n",
      "the loss is %f 1470.2161255\n",
      "the loss is %f 1470.11925096\n",
      "the loss is %f 1470.02228267\n",
      "the loss is %f 1469.92522043\n",
      "the loss is %f 1469.82806407\n",
      "the loss is %f 1469.73081339\n",
      "the loss is %f 1469.63346822\n",
      "the loss is %f 1469.53602837\n",
      "the loss is %f 1469.43849366\n",
      "the loss is %f 1469.34086391\n",
      "the loss is %f 1469.24313892\n",
      "the loss is %f 1469.1453185\n",
      "the loss is %f 1469.04740249\n",
      "the loss is %f 1468.94939068\n",
      "the loss is %f 1468.85128288\n",
      "the loss is %f 1468.75307892\n",
      "the loss is %f 1468.65477859\n",
      "the loss is %f 1468.55638172\n",
      "the loss is %f 1468.45788811\n",
      "the loss is %f 1468.35929757\n",
      "the loss is %f 1468.2606099\n",
      "the loss is %f 1468.16182493\n",
      "the loss is %f 1468.06294244\n",
      "the loss is %f 1467.96396226\n",
      "the loss is %f 1467.86488419\n",
      "the loss is %f 1467.76570803\n",
      "the loss is %f 1467.66643359\n",
      "the loss is %f 1467.56706067\n",
      "the loss is %f 1467.46758908\n",
      "the loss is %f 1467.36801862\n",
      "the loss is %f 1467.2683491\n",
      "the loss is %f 1467.16858031\n",
      "the loss is %f 1467.06871206\n",
      "the loss is %f 1466.96874415\n",
      "the loss is %f 1466.86867638\n",
      "the loss is %f 1466.76850855\n",
      "the loss is %f 1466.66824046\n",
      "the loss is %f 1466.56787191\n",
      "the loss is %f 1466.46740269\n",
      "the loss is %f 1466.36683261\n",
      "the loss is %f 1466.26616145\n",
      "the loss is %f 1466.16538903\n",
      "the loss is %f 1466.06451512\n",
      "the loss is %f 1465.96353954\n",
      "the loss is %f 1465.86246206\n",
      "the loss is %f 1465.76128249\n",
      "the loss is %f 1465.66000063\n",
      "the loss is %f 1465.55861625\n",
      "the loss is %f 1465.45712915\n",
      "the loss is %f 1465.35553914\n",
      "the loss is %f 1465.25384598\n",
      "the loss is %f 1465.15204949\n",
      "the loss is %f 1465.05014943\n",
      "the loss is %f 1464.94814561\n",
      "the loss is %f 1464.84603782\n",
      "the loss is %f 1464.74382583\n",
      "the loss is %f 1464.64150944\n"
     ]
    }
   ],
   "source": [
    "_, grads = AR_model.loss(X)\n",
    "solver = Solver(AR_model, X,\n",
    "                          update_rule='sgd',\n",
    "                          optim_config={\n",
    "                            'learning_rate': 1e-1,\n",
    "                          },\n",
    "                          \n",
    "                          num_epochs=1000, batch_size=1,\n",
    "                          print_every=10)\n",
    "solver.train()"
   ]
  },
  {
   "cell_type": "code",
   "execution_count": 5,
   "metadata": {
    "collapsed": false
   },
   "outputs": [
    {
     "data": {
      "text/plain": [
       "{'intercept': -23.252554606847124,\n",
       " 'phi': array([[-114.39287631]]),\n",
       " 'sigma': -612.2193724737515}"
      ]
     },
     "execution_count": 5,
     "metadata": {},
     "output_type": "execute_result"
    }
   ],
   "source": [
    "AR_model.params"
   ]
  },
  {
   "cell_type": "code",
   "execution_count": 53,
   "metadata": {
    "collapsed": false
   },
   "outputs": [
    {
     "data": {
      "text/plain": [
       "array([[ -2.25644028e+06,   5.40566422e+10,  -1.29498660e+15,\n",
       "          3.10228351e+19,  -7.43186297e+23,   1.78038490e+28,\n",
       "         -4.26510878e+32,   1.02175394e+37,  -2.44772447e+41,\n",
       "          5.86379447e+45]])"
      ]
     },
     "execution_count": 53,
     "metadata": {},
     "output_type": "execute_result"
    }
   ],
   "source": [
    "AR_model.predict(X,10)"
   ]
  },
  {
   "cell_type": "code",
   "execution_count": 18,
   "metadata": {
    "collapsed": false
   },
   "outputs": [
    {
     "name": "stdout",
     "output_type": "stream",
     "text": [
      "[-0.19786273 -0.05678889]\n",
      "0.000119785804031\n"
     ]
    }
   ],
   "source": [
    "from src.ts_gen import ar1_gen\n",
    "import src.inference as inf\n",
    "\n",
    "x = ar1_gen(0.5, sigma = 1, time = 200, num = 1, burnin = 2000)\n",
    "X=np.array([data[0:100,0]])\n",
    "Y=dp.get_return(X)\n",
    "\n",
    "y = inf.yule_walker(x, order =1, method = \"mle\")\n",
    "phi,sigma = inf.yule_walker(Y, order =2, method = \"mle\")\n",
    "print phi \n",
    "print sigma\n",
    "\n"
   ]
  },
  {
   "cell_type": "code",
   "execution_count": 19,
   "metadata": {
    "collapsed": false
   },
   "outputs": [
    {
     "data": {
      "text/plain": [
       "array([-0.19786273, -0.05678889])"
      ]
     },
     "execution_count": 19,
     "metadata": {},
     "output_type": "execute_result"
    }
   ],
   "source": [
    "\n",
    "phi"
   ]
  },
  {
   "cell_type": "code",
   "execution_count": 20,
   "metadata": {
    "collapsed": true
   },
   "outputs": [],
   "source": [
    "AR_model = AR(lag=2, phi=phi, sigma=sigma, intercept=0)"
   ]
  },
  {
   "cell_type": "code",
   "execution_count": 24,
   "metadata": {
    "collapsed": false
   },
   "outputs": [],
   "source": [
    "rt=AR_model.predict(Y,10)"
   ]
  },
  {
   "cell_type": "code",
   "execution_count": 25,
   "metadata": {
    "collapsed": false
   },
   "outputs": [
    {
     "ename": "IndexError",
     "evalue": "index 99 is out of bounds for axis 0 with size 1",
     "output_type": "error",
     "traceback": [
      "\u001b[0;31m---------------------------------------------------------------------------\u001b[0m",
      "\u001b[0;31mIndexError\u001b[0m                                Traceback (most recent call last)",
      "\u001b[0;32m<ipython-input-25-09c9f8df55b1>\u001b[0m in \u001b[0;36m<module>\u001b[0;34m()\u001b[0m\n\u001b[0;32m----> 1\u001b[0;31m \u001b[0mdp\u001b[0m\u001b[0;34m.\u001b[0m\u001b[0mget_price\u001b[0m\u001b[0;34m(\u001b[0m\u001b[0mX\u001b[0m\u001b[0;34m[\u001b[0m\u001b[0;36m99\u001b[0m\u001b[0;34m,\u001b[0m\u001b[0;36m0\u001b[0m\u001b[0;34m]\u001b[0m\u001b[0;34m,\u001b[0m\u001b[0mrt\u001b[0m\u001b[0;34m)\u001b[0m\u001b[0;34m\u001b[0m\u001b[0m\n\u001b[0m",
      "\u001b[0;31mIndexError\u001b[0m: index 99 is out of bounds for axis 0 with size 1"
     ]
    }
   ],
   "source": [
    "dp.get_price(X[99,0],rt)"
   ]
  },
  {
   "cell_type": "code",
   "execution_count": null,
   "metadata": {
    "collapsed": true
   },
   "outputs": [],
   "source": []
  }
 ],
 "metadata": {
  "anaconda-cloud": {},
  "kernelspec": {
   "display_name": "Python [default]",
   "language": "python",
   "name": "python2"
  },
  "language_info": {
   "codemirror_mode": {
    "name": "ipython",
    "version": 2
   },
   "file_extension": ".py",
   "mimetype": "text/x-python",
   "name": "python",
   "nbconvert_exporter": "python",
   "pygments_lexer": "ipython2",
   "version": "2.7.12"
  }
 },
 "nbformat": 4,
 "nbformat_minor": 1
}

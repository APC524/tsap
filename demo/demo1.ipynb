{
 "cells": [
  {
   "cell_type": "code",
   "execution_count": 1,
   "metadata": {
    "collapsed": false
   },
   "outputs": [],
   "source": [
    "\n",
    "# load the packages needed\n",
    "import numpy as np\n",
    "import sys\n",
    "if \"../\" not in sys.path:\n",
    "  sys.path.append(\"../\") \n",
    "from src.solver import Solver\n",
    "from src.model import AR, MA\n",
    "from src.gradient_check import eval_numerical_gradient, eval_numerical_gradient_array\n",
    "import src.data_processor as dp\n",
    "import src.inference \n",
    "from src.ts_gen import ar1_gen\n",
    "data = np.loadtxt(\"../data/SP500array.csv\", delimiter=',')"
   ]
  },
  {
   "cell_type": "code",
   "execution_count": 2,
   "metadata": {
    "collapsed": false
   },
   "outputs": [],
   "source": [
    "X=np.array([data[0:100,0]])\n",
    "Y=dp.get_return(X)\n",
    "X = ar1_gen(0.5, sigma = 1, time = 200, num = 1, burnin = 2000)"
   ]
  },
  {
   "cell_type": "code",
   "execution_count": 3,
   "metadata": {
    "collapsed": false
   },
   "outputs": [
    {
     "data": {
      "text/plain": [
       "{'intercept': 0.1, 'phi': array([[ 1.24430269]]), 'sigma': 1.0}"
      ]
     },
     "execution_count": 3,
     "metadata": {},
     "output_type": "execute_result"
    }
   ],
   "source": [
    "lag = 1\n",
    "sigma = 1.0\n",
    "intercept = 0.1\n",
    "phi = np.random.randn(1, 1)\n",
    "AR_model = AR(lag=lag, phi=phi, sigma=sigma, intercept=intercept)\n",
    "AR_model.params"
   ]
  },
  {
   "cell_type": "code",
   "execution_count": 4,
   "metadata": {
    "collapsed": false
   },
   "outputs": [
    {
     "name": "stdout",
     "output_type": "stream",
     "text": [
      "1000\n",
      "the loss is %f [ 89.70377951]\n",
      "the loss is %f [ 88.72760013]\n",
      "the loss is %f [ 87.73159544]\n",
      "the loss is %f [ 86.71494382]\n",
      "the loss is %f [ 85.67677154]\n",
      "the loss is %f [ 84.6161482]\n",
      "the loss is %f [ 83.53208178]\n",
      "the loss is %f [ 82.423513]\n",
      "the loss is %f [ 81.2893092]\n",
      "the loss is %f [ 80.12825731]\n",
      "the loss is %f [ 78.93905611]\n",
      "the loss is %f [ 77.72030748]\n",
      "the loss is %f [ 76.47050649]\n",
      "the loss is %f [ 75.18803029]\n",
      "the loss is %f [ 73.87112545]\n",
      "the loss is %f [ 72.51789354]\n",
      "the loss is %f [ 71.12627475]\n",
      "the loss is %f [ 69.694029]\n",
      "the loss is %f [ 68.21871432]\n",
      "the loss is %f [ 66.69766187]\n",
      "the loss is %f [ 65.12794687]\n",
      "the loss is %f [ 63.5063549]\n",
      "the loss is %f [ 61.82934228]\n",
      "the loss is %f [ 60.09298956]\n",
      "the loss is %f [ 58.29294647]\n",
      "the loss is %f [ 56.42436639]\n",
      "the loss is %f [ 54.48182791]\n",
      "the loss is %f [ 52.45924016]\n",
      "the loss is %f [ 50.34972797]\n",
      "the loss is %f [ 48.14549123]\n",
      "the loss is %f [ 45.83763118]\n",
      "the loss is %f [ 43.41593408]\n",
      "the loss is %f [ 40.8685988]\n",
      "the loss is %f [ 38.18189001]\n",
      "the loss is %f [ 35.33969132]\n",
      "the loss is %f [ 32.32292141]\n",
      "the loss is %f [ 29.10875965]\n",
      "the loss is %f [ 25.6696012]\n",
      "the loss is %f [ 21.97162008]\n",
      "the loss is %f [ 17.97274887]\n",
      "the loss is %f [ 13.61976643]\n",
      "the loss is %f [ 8.84397474]\n",
      "the loss is %f [ 3.55455731]\n",
      "the loss is %f [-2.37205248]\n",
      "the loss is %f [-9.11006227]\n",
      "the loss is %f [-16.91636185]\n",
      "the loss is %f [-26.19267786]\n",
      "the loss is %f [-37.61972257]\n",
      "the loss is %f [-52.49395064]\n",
      "the loss is %f [-73.7967076]\n",
      "the loss is %f [-111.45963055]\n",
      "the loss is %f [-164.80537594]\n",
      "the loss is %f [-29.17989659]\n",
      "the loss is %f [-41.41252893]\n",
      "the loss is %f [-57.68151529]\n",
      "the loss is %f [-81.97375852]\n",
      "the loss is %f [-130.36293848]\n",
      "the loss is %f [-61.66177404]\n",
      "the loss is %f [-88.60303747]\n",
      "the loss is %f [-149.28012381]\n",
      "the loss is %f [-70.26669178]\n",
      "the loss is %f [-104.31466978]\n",
      "the loss is %f [-226.2221025]\n",
      "the loss is %f [-173.48493619]\n",
      "the loss is %f [-151.93383839]\n",
      "the loss is %f [-11.76393278]\n",
      "the loss is %f [-20.03986998]\n",
      "the loss is %f [-29.98675613]\n",
      "the loss is %f [-42.44849573]\n",
      "the loss is %f [-59.12566806]\n",
      "the loss is %f [-84.34353182]\n",
      "the loss is %f [-136.67896629]\n",
      "the loss is %f [-210.61776295]\n",
      "the loss is %f [-135.61961385]\n",
      "the loss is %f [-166.36077888]\n",
      "the loss is %f [-22.06211089]\n",
      "the loss is %f [-32.47136524]\n",
      "the loss is %f [-45.66725734]\n",
      "the loss is %f [-63.68666164]\n",
      "the loss is %f [-92.1213786]\n",
      "the loss is %f [-161.4543975]\n",
      "the loss is %f [-89.87373241]\n",
      "the loss is %f [-153.50900315]\n",
      "the loss is %f [-64.92423094]\n",
      "the loss is %f [-94.3212525]\n",
      "the loss is %f [-170.10394815]\n",
      "the loss is %f [-212.73052034]\n",
      "the loss is %f [-105.93964858]\n",
      "the loss is %f [-238.97210787]\n",
      "the loss is %f [-7.46426774]\n",
      "the loss is %f [-14.99452486]\n",
      "the loss is %f [-23.8840367]\n",
      "the loss is %f [-34.73043115]\n",
      "the loss is %f [-48.63680629]\n",
      "the loss is %f [-68.00911377]\n",
      "the loss is %f [-99.99352417]\n",
      "the loss is %f [-197.96759584]\n",
      "the loss is %f [-198.84786378]\n",
      "the loss is %f [-142.54797573]\n",
      "the loss is %f [-68.15974842]\n"
     ]
    }
   ],
   "source": [
    "_, grads = AR_model.loss(Y)\n",
    "solver = Solver(AR_model, Y,\n",
    "                          update_rule='sgd',\n",
    "                          optim_config={\n",
    "                            'learning_rate': 1e-5,\n",
    "                          },\n",
    "                          \n",
    "                          num_epochs=1000, batch_size=1,\n",
    "                          print_every=10)\n",
    "solver.train()"
   ]
  },
  {
   "cell_type": "code",
   "execution_count": 5,
   "metadata": {
    "collapsed": false
   },
   "outputs": [
    {
     "data": {
      "text/plain": [
       "{'intercept': array([-0.00011566]),\n",
       " 'phi': array([[ 1.20430545]]),\n",
       " 'sigma': array([ 0.19317783])}"
      ]
     },
     "execution_count": 5,
     "metadata": {},
     "output_type": "execute_result"
    }
   ],
   "source": [
    "AR_model.params"
   ]
  },
  {
   "cell_type": "code",
   "execution_count": 9,
   "metadata": {
    "collapsed": false
   },
   "outputs": [
    {
     "data": {
      "text/plain": [
       "array([[ -2.89425513e+01,   3.26105967e+02,  -4.10108895e+03,\n",
       "          5.11027883e+04,  -6.37249119e+05,   7.94599488e+06,\n",
       "         -9.90807697e+07,   1.23546458e+09,  -1.54053382e+10,\n",
       "          1.92093281e+11]])"
      ]
     },
     "execution_count": 9,
     "metadata": {},
     "output_type": "execute_result"
    }
   ],
   "source": [
    "AR_model.predict(X,10)"
   ]
  },
  {
   "cell_type": "code",
   "execution_count": 8,
   "metadata": {
    "collapsed": false
   },
   "outputs": [
    {
     "name": "stdout",
     "output_type": "stream",
     "text": [
      "[-0.19558968 -0.04886918  0.04002632]\n",
      "0.000119593894429\n"
     ]
    }
   ],
   "source": [
    "from src.ts_gen import ar1_gen\n",
    "import src.inference as inf\n",
    "\n",
    "x = ar1_gen(0.5, sigma = 1, time = 200, num = 1, burnin = 2000)\n",
    "X=np.array([data[0:100,0]])\n",
    "Y=dp.get_return(X)\n",
    "\n",
    "y = inf.yule_walker(x, order =1, method = \"mle\")\n",
    "phi,sigma = inf.yule_walker(Y, order =3, method = \"mle\")\n",
    "print phi \n",
    "print sigma\n",
    "\n"
   ]
  },
  {
   "cell_type": "code",
   "execution_count": 9,
   "metadata": {
    "collapsed": false
   },
   "outputs": [
    {
     "data": {
      "text/plain": [
       "array([-0.19558968, -0.04886918,  0.04002632])"
      ]
     },
     "execution_count": 9,
     "metadata": {},
     "output_type": "execute_result"
    }
   ],
   "source": [
    "\n",
    "phi"
   ]
  },
  {
   "cell_type": "code",
   "execution_count": 10,
   "metadata": {
    "collapsed": true
   },
   "outputs": [],
   "source": [
    "AR_model = AR(lag=3, phi=phi, sigma=sigma, intercept=0)"
   ]
  },
  {
   "cell_type": "code",
   "execution_count": 11,
   "metadata": {
    "collapsed": false
   },
   "outputs": [
    {
     "data": {
      "text/plain": [
       "array([[ -1.47296356e-03,  -4.76342358e-04,   5.03069047e-04,\n",
       "         -1.34073966e-04,  -1.74273183e-05,   3.00966910e-05,\n",
       "         -1.04014310e-05,  -1.33939402e-07,   1.73916635e-06,\n",
       "         -7.49948493e-07]])"
      ]
     },
     "execution_count": 11,
     "metadata": {},
     "output_type": "execute_result"
    }
   ],
   "source": [
    "rt=AR_model.predict(Y,10)\n",
    "rt"
   ]
  },
  {
   "cell_type": "code",
   "execution_count": 13,
   "metadata": {
    "collapsed": false
   },
   "outputs": [
    {
     "data": {
      "text/plain": [
       "array([[ 47.23232588,  47.20982712,  47.23357692,  47.22724413,\n",
       "         47.22642109,  47.22784244,  47.22735121,  47.22734488,\n",
       "         47.22742702,  47.2273916 ]])"
      ]
     },
     "execution_count": 13,
     "metadata": {},
     "output_type": "execute_result"
    }
   ],
   "source": [
    "z=dp.get_price(X[0,99],rt)\n",
    "z"
   ]
  },
  {
   "cell_type": "code",
   "execution_count": 15,
   "metadata": {
    "collapsed": false
   },
   "outputs": [
    {
     "data": {
      "text/plain": [
       "1"
      ]
     },
     "execution_count": 15,
     "metadata": {},
     "output_type": "execute_result"
    }
   ],
   "source": [
    "X.shape[0]"
   ]
  },
  {
   "cell_type": "code",
   "execution_count": 18,
   "metadata": {
    "collapsed": false
   },
   "outputs": [
    {
     "data": {
      "text/plain": [
       "array([ 47.543,  46.906,  47.235,  47.235,  47.157,  46.984,  46.762,\n",
       "        46.752,  46.501,  46.81 ])"
      ]
     },
     "execution_count": 18,
     "metadata": {},
     "output_type": "execute_result"
    }
   ],
   "source": [
    "data[100:110,0]"
   ]
  },
  {
   "cell_type": "code",
   "execution_count": 17,
   "metadata": {
    "collapsed": false
   },
   "outputs": [
    {
     "data": {
      "text/plain": [
       "100"
      ]
     },
     "execution_count": 17,
     "metadata": {},
     "output_type": "execute_result"
    }
   ],
   "source": [
    "import src.trading as tra\n",
    "X[0,0:100].shape[0]"
   ]
  },
  {
   "cell_type": "code",
   "execution_count": 18,
   "metadata": {
    "collapsed": false
   },
   "outputs": [
    {
     "data": {
      "text/plain": [
       "array([[ 100.       ,  100.       ,  100.0503069,  100.0503069]])"
      ]
     },
     "execution_count": 18,
     "metadata": {},
     "output_type": "execute_result"
    }
   ],
   "source": [
    "tra.trade(np.array([X[0,0:100]]),z,AR_model,4,4,100)"
   ]
  },
  {
   "cell_type": "code",
   "execution_count": null,
   "metadata": {
    "collapsed": true
   },
   "outputs": [],
   "source": []
  }
 ],
 "metadata": {
  "anaconda-cloud": {},
  "kernelspec": {
   "display_name": "Python [default]",
   "language": "python",
   "name": "python2"
  },
  "language_info": {
   "codemirror_mode": {
    "name": "ipython",
    "version": 2
   },
   "file_extension": ".py",
   "mimetype": "text/x-python",
   "name": "python",
   "nbconvert_exporter": "python",
   "pygments_lexer": "ipython2",
   "version": "2.7.12"
  }
 },
 "nbformat": 4,
 "nbformat_minor": 1
}

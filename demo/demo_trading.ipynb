{
 "cells": [
  {
   "cell_type": "code",
   "execution_count": 1,
   "metadata": {
    "collapsed": true
   },
   "outputs": [],
   "source": [
    "# load the packages needed\n",
    "import numpy as np\n",
    "import sys\n",
    "if \"../\" not in sys.path:\n",
    "  sys.path.append(\"../\") \n",
    "from src.solver import Solver\n",
    "from src.model import AR, MA\n",
    "import src.data_processor as dp\n",
    "import src.inference as inf\n",
    "from src.ts_gen import ar1_gen\n",
    "data = np.loadtxt(\"../data/GOOG.csv\", delimiter=',')"
   ]
  },
  {
   "cell_type": "code",
   "execution_count": 2,
   "metadata": {
    "collapsed": true
   },
   "outputs": [],
   "source": [
    "X = np.array([data[0:100]])\n",
    "Y = dp.get_return(X)"
   ]
  },
  {
   "cell_type": "code",
   "execution_count": 3,
   "metadata": {
    "collapsed": false
   },
   "outputs": [
    {
     "data": {
      "text/plain": [
       "{'intercept': 0.1, 'phi': array([[ 0.04556911],\n",
       "        [ 0.05362628],\n",
       "        [-0.78219674],\n",
       "        [ 1.30158266],\n",
       "        [ 0.46661286]]), 'sigma': 1.0}"
      ]
     },
     "execution_count": 3,
     "metadata": {},
     "output_type": "execute_result"
    }
   ],
   "source": [
    "lag = 5\n",
    "sigma = 1.0\n",
    "intercept = 0.1\n",
    "phi = np.random.randn(5, 1)\n",
    "AR_model = AR(lag=lag, phi=phi, sigma=sigma, intercept=intercept)\n",
    "AR_model.params"
   ]
  },
  {
   "cell_type": "code",
   "execution_count": 4,
   "metadata": {
    "collapsed": false
   },
   "outputs": [
    {
     "name": "stdout",
     "output_type": "stream",
     "text": [
      "1000\n",
      "the loss is 86.566177\n",
      "the loss is 85.883655\n",
      "the loss is 85.059431\n",
      "the loss is 84.174557\n",
      "the loss is 83.256773\n",
      "the loss is 82.315270\n",
      "the loss is 81.352752\n",
      "the loss is 80.369628\n",
      "the loss is 79.365479\n",
      "the loss is 78.339556\n",
      "the loss is 77.290956\n",
      "the loss is 76.218681\n",
      "the loss is 75.121648\n",
      "the loss is 73.998698\n",
      "the loss is 72.848583\n",
      "the loss is 71.669966\n",
      "the loss is 70.461405\n",
      "the loss is 69.221350\n",
      "the loss is 67.948125\n",
      "the loss is 66.639920\n",
      "the loss is 65.294769\n",
      "the loss is 63.910541\n",
      "the loss is 62.484912\n",
      "the loss is 61.015349\n",
      "the loss is 59.499077\n",
      "the loss is 57.933053\n",
      "the loss is 56.313926\n",
      "the loss is 54.637999\n",
      "the loss is 52.901176\n",
      "the loss is 51.098903\n",
      "the loss is 49.226098\n",
      "the loss is 47.277070\n",
      "the loss is 45.245410\n",
      "the loss is 43.123873\n",
      "the loss is 40.904224\n",
      "the loss is 38.577049\n",
      "the loss is 36.131520\n",
      "the loss is 33.555101\n",
      "the loss is 30.833167\n",
      "the loss is 27.948518\n",
      "the loss is 24.880739\n",
      "the loss is 21.605353\n",
      "the loss is 18.092672\n",
      "the loss is 14.306216\n",
      "the loss is 10.200487\n",
      "the loss is 5.717755\n",
      "the loss is 0.783281\n",
      "the loss is -4.702031\n",
      "the loss is -10.873383\n",
      "the loss is -17.921851\n",
      "the loss is -26.129674\n",
      "the loss is -35.938313\n",
      "the loss is -48.093778\n",
      "the loss is -64.004028\n",
      "the loss is -86.826559\n",
      "the loss is -126.248823\n"
     ]
    }
   ],
   "source": [
    "_, grads = AR_model.loss(Y)\n",
    "solver = Solver(AR_model, Y,\n",
    "                          update_rule='sgd_momentum',\n",
    "                          optim_config={\n",
    "                            'learning_rate': 1e-6,\n",
    "                          },\n",
    "                          \n",
    "                          num_epochs=1000, batch_size=1,\n",
    "                          print_every=10)\n",
    "solver.train()"
   ]
  },
  {
   "cell_type": "code",
   "execution_count": 5,
   "metadata": {
    "collapsed": false
   },
   "outputs": [
    {
     "data": {
      "text/plain": [
       "{'intercept': array([ 0.00019994]), 'phi': array([[ 0.04560256],\n",
       "        [ 0.0535601 ],\n",
       "        [-0.78190871],\n",
       "        [ 1.30062633],\n",
       "        [ 0.46616754]]), 'sigma': array([ 0.01331589])}"
      ]
     },
     "execution_count": 5,
     "metadata": {},
     "output_type": "execute_result"
    }
   ],
   "source": [
    "AR_model.params"
   ]
  },
  {
   "cell_type": "code",
   "execution_count": 7,
   "metadata": {
    "collapsed": false
   },
   "outputs": [
    {
     "name": "stdout",
     "output_type": "stream",
     "text": [
      "[ 0.06259647 -0.01382356 -0.13006426  0.02377511 -0.03743078]\n",
      "0.000174892456335\n"
     ]
    }
   ],
   "source": [
    "a, b = inf.yule_walker(Y, order =5,method='unbiased')\n",
    "print a\n",
    "print b"
   ]
  },
  {
   "cell_type": "code",
   "execution_count": 31,
   "metadata": {
    "collapsed": false
   },
   "outputs": [
    {
     "name": "stdout",
     "output_type": "stream",
     "text": [
      "[[ 0.01299773  0.00986871 -0.0304475   0.00070504  0.01433177  0.04359306\n",
      "  -0.03259612 -0.02343446 -0.01773143  0.08700267 -0.0005323  -0.02697482\n",
      "  -0.10307319  0.09936313  0.06016789  0.05352717 -0.21846387  0.02724348\n",
      "   0.07246382  0.27344961]]\n",
      "[[ 546.80604415  552.20231518  535.38913338  535.76660273  543.44508591\n",
      "   567.13552209  548.64910608  535.79181209  526.29145508  572.08021824\n",
      "   571.77569945  556.35215212  499.00716197  548.59007393  581.59758186\n",
      "   612.72885495  478.8697401   491.91581763  527.56191555  671.8235145 ]]\n",
      "[ 539.78  532.11  533.99  539.18  540.31  536.7   533.33  526.83  526.69\n",
      "  536.69  534.61  532.33  527.2   528.15  529.26  536.73  536.69  538.19\n",
      "  540.48  537.84]\n"
     ]
    },
    {
     "data": {
      "text/plain": [
       "array([[ 0.,  0.,  0.,  0.,  0.,  0.,  0.,  0.,  1., -1.,  0.,  0.,  1.,\n",
       "         0., -1.,  0.,  1.,  0.,  0., -1.]])"
      ]
     },
     "execution_count": 31,
     "metadata": {},
     "output_type": "execute_result"
    }
   ],
   "source": [
    "rt = AR_model.predict(Y,20)\n",
    "print rt\n",
    "pred_price = dp.get_price(X[0,99],rt)\n",
    "print pred_price\n",
    "print data[100:120]\n",
    "\n",
    "import src.trading as tr\n",
    "tr.signal_generation(pred_price,5)"
   ]
  },
  {
   "cell_type": "code",
   "execution_count": 37,
   "metadata": {
    "collapsed": false
   },
   "outputs": [
    {
     "name": "stdout",
     "output_type": "stream",
     "text": [
      "The autoreload extension is already loaded. To reload it, use:\n",
      "  %reload_ext autoreload\n"
     ]
    },
    {
     "data": {
      "image/png": "[encoded data removed]",
      "text/plain": [
       "<matplotlib.figure.Figure at 0x1108cec10>"
      ]
     },
     "metadata": {},
     "output_type": "display_data"
    },
    {
     "data": {
      "image/png": "[encoded data removed]",
      "text/plain": [
       "<matplotlib.figure.Figure at 0x110886190>"
      ]
     },
     "metadata": {},
     "output_type": "display_data"
    }
   ],
   "source": [
    "\n",
    "import matplotlib.pyplot as plt\n",
    "\n",
    "# This is a bit of magic to make matplotlib figures appear inline in the notebook\n",
    "# rather than in a new window.\n",
    "%matplotlib inline\n",
    "plt.rcParams['figure.figsize'] = (5.0, 4.0) # set default size of plots\n",
    "plt.rcParams['image.interpolation'] = 'nearest'\n",
    "plt.rcParams['image.cmap'] = 'gray'\n",
    "\n",
    "# Some more magic so that the notebook will reload external python modules;\n",
    "# see http://stackoverflow.com/questions/1907993/autoreload-of-modules-in-ipython\n",
    "%load_ext autoreload\n",
    "%autoreload 2\n",
    "\n",
    "import src.trading as tr\n",
    "signal=tr.signal_generation(pred_price,5)\n",
    "\n",
    "plt.plot(pred_price[0,:],'r')\n",
    "plt.plot(data[100:120],'b')\n",
    "plt.hold(True)\n",
    "\n",
    "plt.show()\n",
    "\n",
    "plt.figure()\n",
    "plt.plot(data[100:120],'b')\n",
    "for i in range(20):\n",
    "    if signal[0,i]==1:\n",
    "        plt.plot(i,data[100+i], 'ro')\n",
    "    if signal[0,i]==-1:\n",
    "        plt.plot(i,data[100+i], 'g^')\n"
   ]
  },
  {
   "cell_type": "code",
   "execution_count": 38,
   "metadata": {
    "collapsed": false
   },
   "outputs": [
    {
     "name": "stdout",
     "output_type": "stream",
     "text": [
      "[[ 100.          100.          100.          100.          100.          100.\n",
      "   100.          100.          100.          101.89865006  101.89865006\n",
      "   101.89865006  101.89865006  102.08226864  102.29681246  102.29681246\n",
      "   102.29681246  102.5827228   103.01921258  102.51601039]]\n"
     ]
    }
   ],
   "source": [
    "import src.trading as tr\n",
    "profit = tr.trade(X,np.array([data[100:120]]),AR_model,20,5,100)\n",
    "print profit"
   ]
  },
  {
   "cell_type": "code",
   "execution_count": 39,
   "metadata": {
    "collapsed": false
   },
   "outputs": [
    {
     "data": {
      "text/plain": [
       "[<matplotlib.lines.Line2D at 0x111d204d0>]"
      ]
     },
     "execution_count": 39,
     "metadata": {},
     "output_type": "execute_result"
    },
    {
     "data": {
      "image/png": "[encoded data removed]",
      "text/plain": [
       "<matplotlib.figure.Figure at 0x111e0ca90>"
      ]
     },
     "metadata": {},
     "output_type": "display_data"
    }
   ],
   "source": [
    "plt.plot(profit[0,:],'b')\n",
    "\n",
    "#plt.hold(True)\n",
    "#plt.show()"
   ]
  },
  {
   "cell_type": "code",
   "execution_count": null,
   "metadata": {
    "collapsed": true
   },
   "outputs": [],
   "source": []
  }
 ],
 "metadata": {
  "anaconda-cloud": {},
  "kernelspec": {
   "display_name": "Python [default]",
   "language": "python",
   "name": "python2"
  },
  "language_info": {
   "codemirror_mode": {
    "name": "ipython",
    "version": 2
   },
   "file_extension": ".py",
   "mimetype": "text/x-python",
   "name": "python",
   "nbconvert_exporter": "python",
   "pygments_lexer": "ipython2",
   "version": "2.7.12"
  }
 },
 "nbformat": 4,
 "nbformat_minor": 1
}

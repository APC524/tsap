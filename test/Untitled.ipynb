{
 "cells": [
  {
   "cell_type": "code",
   "execution_count": 67,
   "metadata": {
    "collapsed": false
   },
   "outputs": [],
   "source": [
    "import numpy as np\n",
    "# load the packages needed\n",
    "import numpy as np\n",
    "import sys\n",
    "if \"../\" not in sys.path:\n",
    "  sys.path.append(\"../\") \n",
    "from src.solver import Solver\n",
    "from src.model import AR, MA\n",
    "from src.gradient_check import eval_numerical_gradient, eval_numerical_gradient_array\n",
    "import src.data_processor as dp\n",
    "import src.inference \n",
    "from src.ts_gen import ar1_gen\n",
    "data = np.loadtxt(\"../data/SP500array.csv\", delimiter=',')"
   ]
  },
  {
   "cell_type": "code",
   "execution_count": 68,
   "metadata": {
    "collapsed": false
   },
   "outputs": [],
   "source": [
    "X=np.array([data[0:100,0]])\n",
    "Y=dp.get_return(X)\n",
    "X = ar1_gen(0.5, sigma = 1, time = 200, num = 1, burnin = 2000)"
   ]
  },
  {
   "cell_type": "code",
   "execution_count": 69,
   "metadata": {
    "collapsed": false
   },
   "outputs": [
    {
     "data": {
      "text/plain": [
       "{'intercept': 0.1, 'phi': array([[ 0.16431973]]), 'sigma': 1.0}"
      ]
     },
     "execution_count": 69,
     "metadata": {},
     "output_type": "execute_result"
    }
   ],
   "source": [
    "lag = 1\n",
    "sigma = 1.0\n",
    "intercept = 0.1\n",
    "phi = np.random.randn(1, 1)\n",
    "AR_model = AR(lag=lag, phi=phi, sigma=sigma, intercept=intercept)\n",
    "AR_model.params"
   ]
  },
  {
   "cell_type": "code",
   "execution_count": 70,
   "metadata": {
    "collapsed": false
   },
   "outputs": [
    {
     "name": "stdout",
     "output_type": "stream",
     "text": [
      "1000\n",
      "the loss is %f -1149.71622274\n",
      "the loss is %f -1152.37926435\n",
      "the loss is %f -1154.98043112\n",
      "the loss is %f -1157.52278658\n",
      "the loss is %f -1160.00917921\n",
      "the loss is %f -1162.44226232\n",
      "the loss is %f -1164.82451167\n",
      "the loss is %f -1167.15824117\n",
      "the loss is %f -1169.44561693\n",
      "the loss is %f -1171.68866973\n",
      "the loss is %f -1173.8893063\n",
      "the loss is %f -1176.04931942\n",
      "the loss is %f -1178.17039699\n",
      "the loss is %f -1180.25413026\n",
      "the loss is %f -1182.30202128\n",
      "the loss is %f -1184.31548963\n",
      "the loss is %f -1186.29587853\n",
      "the loss is %f -1188.24446043\n",
      "the loss is %f -1190.16244206\n",
      "the loss is %f -1192.05096911\n",
      "the loss is %f -1193.91113044\n",
      "the loss is %f -1195.74396198\n",
      "the loss is %f -1197.5504503\n",
      "the loss is %f -1199.33153588\n",
      "the loss is %f -1201.08811615\n",
      "the loss is %f -1202.82104826\n",
      "the loss is %f -1204.53115165\n",
      "the loss is %f -1206.21921044\n",
      "the loss is %f -1207.88597559\n",
      "the loss is %f -1209.53216702\n",
      "the loss is %f -1211.1584754\n",
      "the loss is %f -1212.765564\n",
      "the loss is %f -1214.35407029\n",
      "the loss is %f -1215.92460744\n",
      "the loss is %f -1217.47776581\n",
      "the loss is %f -1219.01411421\n",
      "the loss is %f -1220.53420122\n",
      "the loss is %f -1222.03855626\n",
      "the loss is %f -1223.52769079\n",
      "the loss is %f -1225.00209925\n",
      "the loss is %f -1226.46226008\n",
      "the loss is %f -1227.9086366\n",
      "the loss is %f -1229.34167787\n",
      "the loss is %f -1230.76181951\n",
      "the loss is %f -1232.16948445\n",
      "the loss is %f -1233.56508367\n",
      "the loss is %f -1234.94901685\n",
      "the loss is %f -1236.32167308\n",
      "the loss is %f -1237.68343142\n",
      "the loss is %f -1239.0346615\n",
      "the loss is %f -1240.37572411\n",
      "the loss is %f -1241.70697171\n",
      "the loss is %f -1243.02874895\n",
      "the loss is %f -1244.34139315\n",
      "the loss is %f -1245.6452348\n",
      "the loss is %f -1246.94059796\n",
      "the loss is %f -1248.22780077\n",
      "the loss is %f -1249.5071558\n",
      "the loss is %f -1250.77897051\n",
      "the loss is %f -1252.04354761\n",
      "the loss is %f -1253.30118547\n",
      "the loss is %f -1254.55217849\n",
      "the loss is %f -1255.79681745\n",
      "the loss is %f -1257.03538988\n",
      "the loss is %f -1258.26818042\n",
      "the loss is %f -1259.49547113\n",
      "the loss is %f -1260.7175419\n",
      "the loss is %f -1261.93467072\n",
      "the loss is %f -1263.14713404\n",
      "the loss is %f -1264.35520711\n",
      "the loss is %f -1265.55916431\n",
      "the loss is %f -1266.75927948\n",
      "the loss is %f -1267.95582626\n",
      "the loss is %f -1269.14907841\n",
      "the loss is %f -1270.33931017\n",
      "the loss is %f -1271.5267966\n",
      "the loss is %f -1272.71181391\n",
      "the loss is %f -1273.89463984\n",
      "the loss is %f -1275.07555402\n",
      "the loss is %f -1276.25483833\n",
      "the loss is %f -1277.43277727\n",
      "the loss is %f -1278.60965839\n",
      "the loss is %f -1279.78577267\n",
      "the loss is %f -1280.96141493\n",
      "the loss is %f -1282.13688428\n",
      "the loss is %f -1283.31248457\n",
      "the loss is %f -1284.48852486\n",
      "the loss is %f -1285.66531989\n",
      "the loss is %f -1286.84319062\n",
      "the loss is %f -1288.02246475\n",
      "the loss is %f -1289.20347729\n",
      "the loss is %f -1290.38657114\n",
      "the loss is %f -1291.57209772\n",
      "the loss is %f -1292.76041765\n",
      "the loss is %f -1293.95190141\n",
      "the loss is %f -1295.1469301\n",
      "the loss is %f -1296.34589622\n",
      "the loss is %f -1297.54920449\n",
      "the loss is %f -1298.75727273\n",
      "the loss is %f -1299.97053284\n"
     ]
    }
   ],
   "source": [
    "_, grads = AR_model.loss(X)\n",
    "solver = Solver(AR_model, X,\n",
    "                          update_rule='sgd',\n",
    "                          optim_config={\n",
    "                            'learning_rate': 1e-1,\n",
    "                          },\n",
    "                          \n",
    "                          num_epochs=1000, batch_size=1,\n",
    "                          print_every=10)\n",
    "solver.train()"
   ]
  },
  {
   "cell_type": "code",
   "execution_count": 71,
   "metadata": {
    "collapsed": false
   },
   "outputs": [
    {
     "data": {
      "text/plain": [
       "{'intercept': 24.708286276428755,\n",
       " 'phi': array([[-136.22495173]]),\n",
       " 'sigma': 188.80621537569803}"
      ]
     },
     "execution_count": 71,
     "metadata": {},
     "output_type": "execute_result"
    }
   ],
   "source": [
    "AR_model.params"
   ]
  },
  {
   "cell_type": "code",
   "execution_count": 53,
   "metadata": {
    "collapsed": false
   },
   "outputs": [
    {
     "data": {
      "text/plain": [
       "array([[ -2.25644028e+06,   5.40566422e+10,  -1.29498660e+15,\n",
       "          3.10228351e+19,  -7.43186297e+23,   1.78038490e+28,\n",
       "         -4.26510878e+32,   1.02175394e+37,  -2.44772447e+41,\n",
       "          5.86379447e+45]])"
      ]
     },
     "execution_count": 53,
     "metadata": {},
     "output_type": "execute_result"
    }
   ],
   "source": [
    "AR_model.predict(X,10)"
   ]
  },
  {
   "cell_type": "code",
   "execution_count": 66,
   "metadata": {
    "collapsed": false
   },
   "outputs": [
    {
     "ename": "NameError",
     "evalue": "global name 'toeplitz' is not defined",
     "output_type": "error",
     "traceback": [
      "\u001b[0;31m---------------------------------------------------------------------------\u001b[0m",
      "\u001b[0;31mNameError\u001b[0m                                 Traceback (most recent call last)",
      "\u001b[0;32m<ipython-input-66-51d13c6afd6c>\u001b[0m in \u001b[0;36m<module>\u001b[0;34m()\u001b[0m\n\u001b[1;32m      4\u001b[0m \u001b[0mx\u001b[0m \u001b[0;34m=\u001b[0m \u001b[0mar1_gen\u001b[0m\u001b[0;34m(\u001b[0m\u001b[0;36m0.5\u001b[0m\u001b[0;34m,\u001b[0m \u001b[0msigma\u001b[0m \u001b[0;34m=\u001b[0m \u001b[0;36m1\u001b[0m\u001b[0;34m,\u001b[0m \u001b[0mtime\u001b[0m \u001b[0;34m=\u001b[0m \u001b[0;36m200\u001b[0m\u001b[0;34m,\u001b[0m \u001b[0mnum\u001b[0m \u001b[0;34m=\u001b[0m \u001b[0;36m1\u001b[0m\u001b[0;34m,\u001b[0m \u001b[0mburnin\u001b[0m \u001b[0;34m=\u001b[0m \u001b[0;36m2000\u001b[0m\u001b[0;34m)\u001b[0m\u001b[0;34m\u001b[0m\u001b[0m\n\u001b[1;32m      5\u001b[0m \u001b[0;34m\u001b[0m\u001b[0m\n\u001b[0;32m----> 6\u001b[0;31m \u001b[0my\u001b[0m \u001b[0;34m=\u001b[0m \u001b[0minf\u001b[0m\u001b[0;34m.\u001b[0m\u001b[0myule_walker\u001b[0m\u001b[0;34m(\u001b[0m\u001b[0mx\u001b[0m\u001b[0;34m,\u001b[0m \u001b[0morder\u001b[0m \u001b[0;34m=\u001b[0m\u001b[0;36m1\u001b[0m\u001b[0;34m,\u001b[0m \u001b[0mmethod\u001b[0m \u001b[0;34m=\u001b[0m \u001b[0;34m\"mle\"\u001b[0m\u001b[0;34m)\u001b[0m\u001b[0;34m\u001b[0m\u001b[0m\n\u001b[0m\u001b[1;32m      7\u001b[0m \u001b[0;32mprint\u001b[0m\u001b[0;34m(\u001b[0m\u001b[0my\u001b[0m\u001b[0;34m)\u001b[0m\u001b[0;34m\u001b[0m\u001b[0m\n\u001b[1;32m      8\u001b[0m \u001b[0;34m\u001b[0m\u001b[0m\n",
      "\u001b[0;32m/Users/lzx/Desktop/project524/tsap/src/inference.py\u001b[0m in \u001b[0;36myule_walker\u001b[0;34m(x, order, demean, method)\u001b[0m\n\u001b[1;32m    125\u001b[0m     \u001b[0mr\u001b[0m\u001b[0;34m[\u001b[0m\u001b[0;36m0\u001b[0m\u001b[0;34m]\u001b[0m \u001b[0;34m=\u001b[0m \u001b[0;34m(\u001b[0m\u001b[0mx\u001b[0m\u001b[0;34m**\u001b[0m\u001b[0;36m2\u001b[0m\u001b[0;34m)\u001b[0m\u001b[0;34m.\u001b[0m\u001b[0msum\u001b[0m\u001b[0;34m(\u001b[0m\u001b[0;34m)\u001b[0m \u001b[0;34m/\u001b[0m \u001b[0mdenom\u001b[0m\u001b[0;34m(\u001b[0m\u001b[0;36m0\u001b[0m\u001b[0;34m)\u001b[0m\u001b[0;34m\u001b[0m\u001b[0m\n\u001b[1;32m    126\u001b[0m     \u001b[0;32mfor\u001b[0m \u001b[0mk\u001b[0m \u001b[0;32min\u001b[0m \u001b[0mrange\u001b[0m\u001b[0;34m(\u001b[0m\u001b[0;36m1\u001b[0m\u001b[0;34m,\u001b[0m\u001b[0morder\u001b[0m\u001b[0;34m+\u001b[0m\u001b[0;36m1\u001b[0m\u001b[0;34m)\u001b[0m\u001b[0;34m:\u001b[0m\u001b[0;34m\u001b[0m\u001b[0m\n\u001b[0;32m--> 127\u001b[0;31m         \u001b[0mr\u001b[0m\u001b[0;34m[\u001b[0m\u001b[0mk\u001b[0m\u001b[0;34m]\u001b[0m \u001b[0;34m=\u001b[0m \u001b[0;34m(\u001b[0m\u001b[0mx\u001b[0m\u001b[0;34m[\u001b[0m\u001b[0;36m0\u001b[0m\u001b[0;34m:\u001b[0m\u001b[0;34m-\u001b[0m\u001b[0mk\u001b[0m\u001b[0;34m]\u001b[0m\u001b[0;34m*\u001b[0m\u001b[0mx\u001b[0m\u001b[0;34m[\u001b[0m\u001b[0mk\u001b[0m\u001b[0;34m:\u001b[0m\u001b[0;34m]\u001b[0m\u001b[0;34m)\u001b[0m\u001b[0;34m.\u001b[0m\u001b[0msum\u001b[0m\u001b[0;34m(\u001b[0m\u001b[0;34m)\u001b[0m \u001b[0;34m/\u001b[0m \u001b[0mdenom\u001b[0m\u001b[0;34m(\u001b[0m\u001b[0mk\u001b[0m\u001b[0;34m)\u001b[0m\u001b[0;34m\u001b[0m\u001b[0m\n\u001b[0m\u001b[1;32m    128\u001b[0m     \u001b[0mR\u001b[0m \u001b[0;34m=\u001b[0m \u001b[0mscipy\u001b[0m\u001b[0;34m.\u001b[0m\u001b[0mlinalg\u001b[0m\u001b[0;34m.\u001b[0m\u001b[0mtoeplitz\u001b[0m\u001b[0;34m(\u001b[0m\u001b[0mr\u001b[0m\u001b[0;34m[\u001b[0m\u001b[0;34m:\u001b[0m\u001b[0;34m-\u001b[0m\u001b[0;36m1\u001b[0m\u001b[0;34m]\u001b[0m\u001b[0;34m)\u001b[0m\u001b[0;34m\u001b[0m\u001b[0m\n\u001b[1;32m    129\u001b[0m \u001b[0;34m\u001b[0m\u001b[0m\n",
      "\u001b[0;31mNameError\u001b[0m: global name 'toeplitz' is not defined"
     ]
    }
   ],
   "source": [
    "from src.ts_gen import ar1_gen\n",
    "import src.inference as inf\n",
    "\n",
    "x = ar1_gen(0.5, sigma = 1, time = 200, num = 1, burnin = 2000)\n",
    "\n",
    "y = inf.yule_walker(x, order =1, method = \"mle\")\n",
    "print(y)\n",
    "\n"
   ]
  },
  {
   "cell_type": "code",
   "execution_count": null,
   "metadata": {
    "collapsed": true
   },
   "outputs": [],
   "source": []
  },
  {
   "cell_type": "code",
   "execution_count": null,
   "metadata": {
    "collapsed": true
   },
   "outputs": [],
   "source": []
  }
 ],
 "metadata": {
  "kernelspec": {
   "display_name": "Python [default]",
   "language": "python",
   "name": "python2"
  },
  "language_info": {
   "codemirror_mode": {
    "name": "ipython",
    "version": 2
   },
   "file_extension": ".py",
   "mimetype": "text/x-python",
   "name": "python",
   "nbconvert_exporter": "python",
   "pygments_lexer": "ipython2",
   "version": "2.7.12"
  }
 },
 "nbformat": 4,
 "nbformat_minor": 1
}

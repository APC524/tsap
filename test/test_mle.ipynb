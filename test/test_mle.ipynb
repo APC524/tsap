{
 "cells": [
  {
   "cell_type": "code",
   "execution_count": 1,
   "metadata": {
    "collapsed": false
   },
   "outputs": [],
   "source": [
    "# load the packages needed\n",
    "import numpy as np\n",
    "import sys\n",
    "if \"../\" not in sys.path:\n",
    "  sys.path.append(\"../\") \n",
    "from src.solver import Solver\n",
    "from src.model import AR, MA\n",
    "from src.gradient_check import eval_numerical_gradient, eval_numerical_gradient_array"
   ]
  },
  {
   "cell_type": "code",
   "execution_count": 3,
   "metadata": {
    "collapsed": false
   },
   "outputs": [],
   "source": [
    "# define a useful mathod for future use\n",
    "def rel_error(x, y):\n",
    "  \"\"\" returns relative error \"\"\"\n",
    "  return np.max(np.abs(x - y) / (np.maximum(1e-8, np.abs(x) + np.abs(y))))"
   ]
  },
  {
   "cell_type": "code",
   "execution_count": 4,
   "metadata": {
    "collapsed": false
   },
   "outputs": [
    {
     "name": "stdout",
     "output_type": "stream",
     "text": [
      "d_phi error:  4.19331854285e-11\n",
      "d_intercept error:  3.93273060164e-10\n",
      "d_sigma error:  1.38066906994e-10\n"
     ]
    }
   ],
   "source": [
    "# test the functionality of AR in model.py using just one piece of data\n",
    "np.random.seed(1)\n",
    "N = 1\n",
    "T = 100\n",
    "lag = 2\n",
    "sigma = 1.0\n",
    "intercept = 0.1\n",
    "phi = np.random.randn(2, 1)\n",
    "\n",
    "X = np.random.randn(N, T)\n",
    "\n",
    "AR_model =  AR(lag=lag, phi=phi, sigma=sigma, intercept=intercept)\n",
    "_, grads = AR_model.loss(X)\n",
    "\n",
    "d_phi = grads['phi']\n",
    "d_intercept = grads['intercept']\n",
    "\n",
    "d_sigma = grads['sigma']\n",
    "\n",
    "d_phi_num = eval_numerical_gradient_array(lambda phi: AR_model.loss(X, lag,phi,sigma,intercept)[0], phi, 1)\n",
    "print 'd_phi error: ', rel_error(d_phi_num, d_phi)\n",
    "\n",
    "d_intercept_num = eval_numerical_gradient_array(lambda intercept: AR_model.loss(X, lag,phi,sigma,intercept)[0], intercept, 1)\n",
    "print 'd_intercept error: ', rel_error(d_intercept_num, d_intercept)\n",
    "\n",
    "d_sigma_num = eval_numerical_gradient_array(lambda sigma: AR_model.loss(X, lag,phi,sigma,intercept)[0], sigma, 1)\n",
    "print 'd_sigma error: ', rel_error(d_sigma_num, d_sigma)\n",
    "\n"
   ]
  },
  {
   "cell_type": "code",
   "execution_count": 7,
   "metadata": {
    "collapsed": false
   },
   "outputs": [
    {
     "name": "stdout",
     "output_type": "stream",
     "text": [
      "1000\n",
      "the loss is %f [-508.16434357]\n",
      "the loss is %f [-514.84012]\n",
      "the loss is %f [-523.5794644]\n",
      "the loss is %f [-535.75319305]\n",
      "the loss is %f [-554.37816414]\n",
      "the loss is %f [-587.87277043]\n",
      "the loss is %f [-674.57798573]\n",
      "the loss is %f [-62507.22593527]\n",
      "the loss is %f [-808.10522033]\n",
      "the loss is %f [-808.10588081]\n",
      "the loss is %f [-808.10654129]\n",
      "the loss is %f [-808.10720176]\n",
      "the loss is %f [-808.10786222]\n",
      "the loss is %f [-808.10852267]\n",
      "the loss is %f [-808.10918311]\n",
      "the loss is %f [-808.10984354]\n",
      "the loss is %f [-808.11050396]\n",
      "the loss is %f [-808.11116438]\n",
      "the loss is %f [-808.11182478]\n",
      "the loss is %f [-808.11248518]\n",
      "the loss is %f [-808.11314557]\n",
      "the loss is %f [-808.11380595]\n",
      "the loss is %f [-808.11446632]\n",
      "the loss is %f [-808.11512668]\n",
      "the loss is %f [-808.11578703]\n",
      "the loss is %f [-808.11644737]\n",
      "the loss is %f [-808.11710771]\n",
      "the loss is %f [-808.11776803]\n",
      "the loss is %f [-808.11842835]\n",
      "the loss is %f [-808.11908865]\n",
      "the loss is %f [-808.11974895]\n",
      "the loss is %f [-808.12040924]\n",
      "the loss is %f [-808.12106952]\n",
      "the loss is %f [-808.12172979]\n",
      "the loss is %f [-808.12239006]\n",
      "the loss is %f [-808.12305031]\n",
      "the loss is %f [-808.12371056]\n",
      "the loss is %f [-808.12437079]\n",
      "the loss is %f [-808.12503102]\n",
      "the loss is %f [-808.12569124]\n",
      "the loss is %f [-808.12635145]\n",
      "the loss is %f [-808.12701165]\n",
      "the loss is %f [-808.12767184]\n",
      "the loss is %f [-808.12833202]\n",
      "the loss is %f [-808.1289922]\n",
      "the loss is %f [-808.12965236]\n",
      "the loss is %f [-808.13031252]\n",
      "the loss is %f [-808.13097267]\n",
      "the loss is %f [-808.1316328]\n",
      "the loss is %f [-808.13229293]\n",
      "the loss is %f [-808.13295306]\n",
      "the loss is %f [-808.13361317]\n",
      "the loss is %f [-808.13427327]\n",
      "the loss is %f [-808.13493336]\n",
      "the loss is %f [-808.13559345]\n",
      "the loss is %f [-808.13625352]\n",
      "the loss is %f [-808.13691359]\n",
      "the loss is %f [-808.13757365]\n",
      "the loss is %f [-808.1382337]\n",
      "the loss is %f [-808.13889374]\n",
      "the loss is %f [-808.13955377]\n",
      "the loss is %f [-808.1402138]\n",
      "the loss is %f [-808.14087381]\n",
      "the loss is %f [-808.14153381]\n",
      "the loss is %f [-808.14219381]\n",
      "the loss is %f [-808.1428538]\n",
      "the loss is %f [-808.14351378]\n",
      "the loss is %f [-808.14417375]\n",
      "the loss is %f [-808.14483371]\n",
      "the loss is %f [-808.14549366]\n",
      "the loss is %f [-808.1461536]\n",
      "the loss is %f [-808.14681353]\n",
      "the loss is %f [-808.14747346]\n",
      "the loss is %f [-808.14813338]\n",
      "the loss is %f [-808.14879328]\n",
      "the loss is %f [-808.14945318]\n",
      "the loss is %f [-808.15011307]\n",
      "the loss is %f [-808.15077295]\n",
      "the loss is %f [-808.15143282]\n",
      "the loss is %f [-808.15209269]\n",
      "the loss is %f [-808.15275254]\n",
      "the loss is %f [-808.15341239]\n",
      "the loss is %f [-808.15407222]\n",
      "the loss is %f [-808.15473205]\n",
      "the loss is %f [-808.15539187]\n",
      "the loss is %f [-808.15605168]\n",
      "the loss is %f [-808.15671148]\n",
      "the loss is %f [-808.15737127]\n",
      "the loss is %f [-808.15803105]\n",
      "the loss is %f [-808.15869083]\n",
      "the loss is %f [-808.15935059]\n",
      "the loss is %f [-808.16001035]\n",
      "the loss is %f [-808.1606701]\n",
      "the loss is %f [-808.16132983]\n",
      "the loss is %f [-808.16198956]\n",
      "the loss is %f [-808.16264928]\n",
      "the loss is %f [-808.163309]\n",
      "the loss is %f [-808.1639687]\n",
      "the loss is %f [-808.16462839]\n",
      "the loss is %f [-808.16528808]\n"
     ]
    }
   ],
   "source": [
    "solver = Solver(AR_model, X,\n",
    "                          update_rule='sgd',\n",
    "                          optim_config={\n",
    "                            'learning_rate': 1e-1,\n",
    "                          },\n",
    "                          \n",
    "                          num_epochs=1000, batch_size=1,\n",
    "                          print_every=10)\n",
    "solver.train()"
   ]
  },
  {
   "cell_type": "code",
   "execution_count": 8,
   "metadata": {
    "collapsed": false
   },
   "outputs": [
    {
     "name": "stdout",
     "output_type": "stream",
     "text": [
      "{'phi': array([[ 202.38029974],\n",
      "       [ -88.57714501]]), 'intercept': array([ 48.50283574]), 'sigma': array([ 3809.12329206])}\n"
     ]
    }
   ],
   "source": [
    "print AR_model.params"
   ]
  },
  {
   "cell_type": "code",
   "execution_count": 9,
   "metadata": {
    "collapsed": false
   },
   "outputs": [
    {
     "name": "stdout",
     "output_type": "stream",
     "text": [
      "100\n",
      "the loss is %f [-808.16535635]\n",
      "the loss is %f [-808.16536144]\n",
      "the loss is %f [-808.16536752]\n",
      "the loss is %f [-808.16537393]\n",
      "the loss is %f [-808.16538047]\n",
      "the loss is %f [-808.16538704]\n",
      "the loss is %f [-808.16539363]\n",
      "the loss is %f [-808.16540023]\n",
      "the loss is %f [-808.16540682]\n",
      "the loss is %f [-808.16541342]\n"
     ]
    }
   ],
   "source": [
    "solver_sgd_momentum = Solver(AR_model, X,\n",
    "                          update_rule='sgd_momentum',\n",
    "                          optim_config={\n",
    "                            'learning_rate': 1e-4,\n",
    "                          },\n",
    "                          \n",
    "                          num_epochs=100, batch_size=1,\n",
    "                          print_every=10)\n",
    "solver_sgd_momentum.train()"
   ]
  },
  {
   "cell_type": "code",
   "execution_count": 10,
   "metadata": {
    "collapsed": false
   },
   "outputs": [
    {
     "name": "stdout",
     "output_type": "stream",
     "text": [
      "100\n"
     ]
    },
    {
     "ename": "ValueError",
     "evalue": "shapes (1,1) and (0,1) not aligned: 1 (dim 1) != 0 (dim 0)",
     "output_type": "error",
     "traceback": [
      "\u001b[0;31m---------------------------------------------------------------------------\u001b[0m",
      "\u001b[0;31mValueError\u001b[0m                                Traceback (most recent call last)",
      "\u001b[0;32m<ipython-input-10-3e97b3faaa58>\u001b[0m in \u001b[0;36m<module>\u001b[0;34m()\u001b[0m\n\u001b[1;32m     19\u001b[0m                           \u001b[0mnum_epochs\u001b[0m\u001b[0;34m=\u001b[0m\u001b[0;36m100\u001b[0m\u001b[0;34m,\u001b[0m \u001b[0mbatch_size\u001b[0m\u001b[0;34m=\u001b[0m\u001b[0;36m1\u001b[0m\u001b[0;34m,\u001b[0m\u001b[0;34m\u001b[0m\u001b[0m\n\u001b[1;32m     20\u001b[0m                           print_every=10)\n\u001b[0;32m---> 21\u001b[0;31m \u001b[0msolver\u001b[0m\u001b[0;34m.\u001b[0m\u001b[0mtrain\u001b[0m\u001b[0;34m(\u001b[0m\u001b[0;34m)\u001b[0m\u001b[0;34m\u001b[0m\u001b[0m\n\u001b[0m",
      "\u001b[0;32m/Users/congma/Documents/tsap/src/solver.pyc\u001b[0m in \u001b[0;36mtrain\u001b[0;34m(self)\u001b[0m\n\u001b[1;32m     79\u001b[0m     \u001b[0;32mprint\u001b[0m \u001b[0mnum_iterations\u001b[0m\u001b[0;34m\u001b[0m\u001b[0m\n\u001b[1;32m     80\u001b[0m     \u001b[0;32mfor\u001b[0m \u001b[0mt\u001b[0m \u001b[0;32min\u001b[0m \u001b[0mxrange\u001b[0m\u001b[0;34m(\u001b[0m\u001b[0mnum_iterations\u001b[0m\u001b[0;34m)\u001b[0m\u001b[0;34m:\u001b[0m\u001b[0;34m\u001b[0m\u001b[0m\n\u001b[0;32m---> 81\u001b[0;31m       \u001b[0mself\u001b[0m\u001b[0;34m.\u001b[0m\u001b[0m_step\u001b[0m\u001b[0;34m(\u001b[0m\u001b[0;34m)\u001b[0m\u001b[0;34m\u001b[0m\u001b[0m\n\u001b[0m\u001b[1;32m     82\u001b[0m       \u001b[0;32mif\u001b[0m \u001b[0;34m(\u001b[0m\u001b[0mt\u001b[0m\u001b[0;34m+\u001b[0m\u001b[0;36m1\u001b[0m\u001b[0;34m)\u001b[0m \u001b[0;34m%\u001b[0m \u001b[0mself\u001b[0m\u001b[0;34m.\u001b[0m\u001b[0mprint_every\u001b[0m \u001b[0;34m==\u001b[0m \u001b[0;36m0\u001b[0m\u001b[0;34m:\u001b[0m\u001b[0;34m\u001b[0m\u001b[0m\n\u001b[1;32m     83\u001b[0m         \u001b[0;32mprint\u001b[0m \u001b[0;34m\"the loss is %f\"\u001b[0m\u001b[0;34m,\u001b[0m \u001b[0mself\u001b[0m\u001b[0;34m.\u001b[0m\u001b[0mloss_history\u001b[0m\u001b[0;34m[\u001b[0m\u001b[0;34m-\u001b[0m\u001b[0;36m1\u001b[0m\u001b[0;34m]\u001b[0m\u001b[0;34m\u001b[0m\u001b[0m\n",
      "\u001b[0;32m/Users/congma/Documents/tsap/src/solver.pyc\u001b[0m in \u001b[0;36m_step\u001b[0;34m(self)\u001b[0m\n\u001b[1;32m     57\u001b[0m     \u001b[0;31m# Compute loss and gradient\u001b[0m\u001b[0;34m\u001b[0m\u001b[0;34m\u001b[0m\u001b[0m\n\u001b[1;32m     58\u001b[0m     \u001b[0;31m# loss, grads = self.model.loss(X_batch)\u001b[0m\u001b[0;34m\u001b[0m\u001b[0;34m\u001b[0m\u001b[0m\n\u001b[0;32m---> 59\u001b[0;31m     \u001b[0mloss\u001b[0m\u001b[0;34m,\u001b[0m \u001b[0mgrads\u001b[0m \u001b[0;34m=\u001b[0m \u001b[0mself\u001b[0m\u001b[0;34m.\u001b[0m\u001b[0mmodel\u001b[0m\u001b[0;34m.\u001b[0m\u001b[0mloss\u001b[0m\u001b[0;34m(\u001b[0m\u001b[0mself\u001b[0m\u001b[0;34m.\u001b[0m\u001b[0mX\u001b[0m\u001b[0;34m)\u001b[0m\u001b[0;34m\u001b[0m\u001b[0m\n\u001b[0m\u001b[1;32m     60\u001b[0m     \u001b[0;31m# print loss, grads\u001b[0m\u001b[0;34m\u001b[0m\u001b[0;34m\u001b[0m\u001b[0m\n\u001b[1;32m     61\u001b[0m     \u001b[0mself\u001b[0m\u001b[0;34m.\u001b[0m\u001b[0mloss_history\u001b[0m\u001b[0;34m.\u001b[0m\u001b[0mappend\u001b[0m\u001b[0;34m(\u001b[0m\u001b[0mloss\u001b[0m\u001b[0;34m)\u001b[0m\u001b[0;34m\u001b[0m\u001b[0m\n",
      "\u001b[0;32m/Users/congma/Documents/tsap/src/model.py\u001b[0m in \u001b[0;36mloss\u001b[0;34m(self, X, lag, phi, sigma, intercept)\u001b[0m\n\u001b[1;32m    147\u001b[0m \u001b[0;34m\u001b[0m\u001b[0m\n\u001b[1;32m    148\u001b[0m     \u001b[0;32mdef\u001b[0m \u001b[0mloss\u001b[0m\u001b[0;34m(\u001b[0m\u001b[0mself\u001b[0m\u001b[0;34m,\u001b[0m \u001b[0mX\u001b[0m\u001b[0;34m,\u001b[0m \u001b[0mlag\u001b[0m\u001b[0;34m=\u001b[0m\u001b[0mNone\u001b[0m\u001b[0;34m,\u001b[0m \u001b[0mphi\u001b[0m\u001b[0;34m=\u001b[0m\u001b[0mNone\u001b[0m\u001b[0;34m,\u001b[0m \u001b[0msigma\u001b[0m\u001b[0;34m=\u001b[0m\u001b[0mNone\u001b[0m\u001b[0;34m,\u001b[0m \u001b[0mintercept\u001b[0m\u001b[0;34m=\u001b[0m\u001b[0mNone\u001b[0m\u001b[0;34m)\u001b[0m\u001b[0;34m:\u001b[0m\u001b[0;34m\u001b[0m\u001b[0m\n\u001b[0;32m--> 149\u001b[0;31m         \u001b[0mloglikelihood\u001b[0m \u001b[0;34m=\u001b[0m \u001b[0mself\u001b[0m\u001b[0;34m.\u001b[0m\u001b[0mget_loglikelihood\u001b[0m\u001b[0;34m(\u001b[0m\u001b[0mX\u001b[0m\u001b[0;34m,\u001b[0m \u001b[0mlag\u001b[0m\u001b[0;34m=\u001b[0m\u001b[0mlag\u001b[0m\u001b[0;34m,\u001b[0m \u001b[0mphi\u001b[0m\u001b[0;34m=\u001b[0m\u001b[0mphi\u001b[0m\u001b[0;34m,\u001b[0m \u001b[0msigma\u001b[0m\u001b[0;34m=\u001b[0m\u001b[0msigma\u001b[0m\u001b[0;34m,\u001b[0m \u001b[0mintercept\u001b[0m\u001b[0;34m=\u001b[0m\u001b[0mintercept\u001b[0m\u001b[0;34m)\u001b[0m\u001b[0;34m\u001b[0m\u001b[0m\n\u001b[0m\u001b[1;32m    150\u001b[0m         \u001b[0;34m\"\"\"grad_phi is a column vector\"\"\"\u001b[0m\u001b[0;34m\u001b[0m\u001b[0m\n\u001b[1;32m    151\u001b[0m         \u001b[0mgrads\u001b[0m \u001b[0;34m=\u001b[0m \u001b[0;34m{\u001b[0m\u001b[0;34m}\u001b[0m\u001b[0;34m\u001b[0m\u001b[0m\n",
      "\u001b[0;32m/Users/congma/Documents/tsap/src/model.py\u001b[0m in \u001b[0;36mget_loglikelihood\u001b[0;34m(self, X, lag, phi, sigma, intercept)\u001b[0m\n\u001b[1;32m    180\u001b[0m         \u001b[0mautocov\u001b[0m\u001b[0;34m[\u001b[0m\u001b[0;36m0\u001b[0m\u001b[0;34m]\u001b[0m\u001b[0;34m=\u001b[0m\u001b[0mtemp\u001b[0m\u001b[0;34m[\u001b[0m\u001b[0;36m0\u001b[0m\u001b[0;34m,\u001b[0m\u001b[0;36m0\u001b[0m\u001b[0;34m]\u001b[0m\u001b[0;34m\u001b[0m\u001b[0m\n\u001b[1;32m    181\u001b[0m         \u001b[0;32mfor\u001b[0m \u001b[0mi\u001b[0m \u001b[0;32min\u001b[0m \u001b[0mrange\u001b[0m\u001b[0;34m(\u001b[0m\u001b[0mlag\u001b[0m\u001b[0;34m)\u001b[0m\u001b[0;34m:\u001b[0m\u001b[0;34m\u001b[0m\u001b[0m\n\u001b[0;32m--> 182\u001b[0;31m             \u001b[0mtemp\u001b[0m \u001b[0;34m=\u001b[0m \u001b[0mnp\u001b[0m\u001b[0;34m.\u001b[0m\u001b[0mdot\u001b[0m\u001b[0;34m(\u001b[0m\u001b[0mphi\u001b[0m\u001b[0;34m[\u001b[0m\u001b[0;36m0\u001b[0m\u001b[0;34m:\u001b[0m\u001b[0mlag\u001b[0m\u001b[0;34m-\u001b[0m\u001b[0mi\u001b[0m\u001b[0;34m-\u001b[0m\u001b[0;36m2\u001b[0m\u001b[0;34m]\u001b[0m\u001b[0;34m.\u001b[0m\u001b[0mT\u001b[0m\u001b[0;34m,\u001b[0m\u001b[0mphi\u001b[0m\u001b[0;34m[\u001b[0m\u001b[0mi\u001b[0m\u001b[0;34m+\u001b[0m\u001b[0;36m1\u001b[0m\u001b[0;34m:\u001b[0m\u001b[0mlag\u001b[0m\u001b[0;34m-\u001b[0m\u001b[0;36m1\u001b[0m\u001b[0;34m]\u001b[0m\u001b[0;34m)\u001b[0m\u001b[0;34m*\u001b[0m\u001b[0msigma\u001b[0m\u001b[0;34m**\u001b[0m\u001b[0;36m2\u001b[0m\u001b[0;34m\u001b[0m\u001b[0m\n\u001b[0m\u001b[1;32m    183\u001b[0m             \u001b[0mautocov\u001b[0m\u001b[0;34m[\u001b[0m\u001b[0mi\u001b[0m\u001b[0;34m+\u001b[0m\u001b[0;36m1\u001b[0m\u001b[0;34m]\u001b[0m\u001b[0;34m=\u001b[0m\u001b[0mtemp\u001b[0m\u001b[0;34m[\u001b[0m\u001b[0;36m0\u001b[0m\u001b[0;34m,\u001b[0m\u001b[0;36m0\u001b[0m\u001b[0;34m]\u001b[0m\u001b[0;34m-\u001b[0m\u001b[0mphi\u001b[0m\u001b[0;34m[\u001b[0m\u001b[0mi\u001b[0m\u001b[0;34m]\u001b[0m\u001b[0;34m*\u001b[0m\u001b[0msigma\u001b[0m\u001b[0;34m**\u001b[0m\u001b[0;36m2\u001b[0m\u001b[0;34m\u001b[0m\u001b[0m\n\u001b[1;32m    184\u001b[0m \u001b[0;34m\u001b[0m\u001b[0m\n",
      "\u001b[0;31mValueError\u001b[0m: shapes (1,1) and (0,1) not aligned: 1 (dim 1) != 0 (dim 0)"
     ]
    }
   ],
   "source": [
    "# test the functionality of model.py using just one piece of data\n",
    "np.random.seed(1)\n",
    "N = 1\n",
    "T = 100\n",
    "lag = 2\n",
    "sigma = 0.01\n",
    "intercept = 0.1\n",
    "phi = np.random.randn(2, 1)\n",
    "\n",
    "X = np.random.randn(N, T)\n",
    "\n",
    "MA_model =  MA(lag=lag, phi=phi, sigma=sigma, intercept=intercept)\n",
    "solver = Solver(MA_model, X,\n",
    "                          update_rule='sgd',\n",
    "                          optim_config={\n",
    "                            'learning_rate': 1e-1,\n",
    "                          },\n",
    "                          \n",
    "                          num_epochs=100, batch_size=1,\n",
    "                          print_every=10)\n",
    "solver.train()"
   ]
  },
  {
   "cell_type": "code",
   "execution_count": 5,
   "metadata": {
    "collapsed": false
   },
   "outputs": [],
   "source": [
    "data = np.loadtxt(\"../data/SP500array.csv\", delimiter=',')"
   ]
  },
  {
   "cell_type": "code",
   "execution_count": 6,
   "metadata": {
    "collapsed": false
   },
   "outputs": [
    {
     "name": "stdout",
     "output_type": "stream",
     "text": [
      "100\n",
      "the loss is %f [-23734659.47246086]\n",
      "the loss is %f [-292721.61035795]\n",
      "the loss is %f [-310017.81954523]\n",
      "the loss is %f [-328681.52817802]\n",
      "the loss is %f [-348867.55153327]\n",
      "the loss is %f [-370755.53478202]\n",
      "the loss is %f [-394555.29589351]\n",
      "the loss is %f [-420513.64125614]\n",
      "the loss is %f [-448923.15830532]\n",
      "the loss is %f [-480133.6995575]\n"
     ]
    }
   ],
   "source": [
    "X = data[:,1].reshape(1,-1)\n",
    "solver = Solver(model, X,\n",
    "                          update_rule='sgd',\n",
    "                          optim_config={\n",
    "                            'learning_rate': 1e-4,\n",
    "                          },\n",
    "                          \n",
    "                          num_epochs=100, batch_size=1,\n",
    "                          print_every=10)\n",
    "solver.train()"
   ]
  },
  {
   "cell_type": "code",
   "execution_count": 7,
   "metadata": {
    "collapsed": false
   },
   "outputs": [
    {
     "name": "stdout",
     "output_type": "stream",
     "text": [
      "{'phi': array([[ 132.09456297],\n",
      "       [ 135.765476  ]]), 'intercept': array([ 2.51851322]), 'sigma': array([ 357.68609409])}\n"
     ]
    }
   ],
   "source": [
    "print model.params"
   ]
  },
  {
   "cell_type": "code",
   "execution_count": null,
   "metadata": {
    "collapsed": true
   },
   "outputs": [],
   "source": []
  }
 ],
 "metadata": {
  "anaconda-cloud": {},
  "kernelspec": {
   "display_name": "Python 2",
   "language": "python",
   "name": "python2"
  },
  "language_info": {
   "codemirror_mode": {
    "name": "ipython",
    "version": 2
   },
   "file_extension": ".py",
   "mimetype": "text/x-python",
   "name": "python",
   "nbconvert_exporter": "python",
   "pygments_lexer": "ipython2",
   "version": "2.7.11"
  }
 },
 "nbformat": 4,
 "nbformat_minor": 1
}

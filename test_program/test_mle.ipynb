{
 "cells": [
  {
   "cell_type": "code",
   "execution_count": 1,
   "metadata": {
    "collapsed": false
   },
   "outputs": [],
   "source": [
    "import numpy as np\n",
    "import sys\n",
    "if \"../\" not in sys.path:\n",
    "  sys.path.append(\"../\") \n",
    "from src.solver import Solver\n",
    "from src.model import AR\n"
   ]
  },
  {
   "cell_type": "code",
   "execution_count": 2,
   "metadata": {
    "collapsed": false
   },
   "outputs": [],
   "source": [
    "N = 1\n",
    "T = 100\n",
    "np.random.seed(1)\n",
    "X = np.random.randn(N, T)\n",
    "model =  AR(lag=2, phi=np.random.randn(2, 1), sigma=1, intercept=0.1)"
   ]
  },
  {
   "cell_type": "code",
   "execution_count": 3,
   "metadata": {
    "collapsed": false
   },
   "outputs": [
    {
     "name": "stdout",
     "output_type": "stream",
     "text": [
      "100\n",
      "the loss is %f [-140.77261759]\n",
      "the loss is %f [-314.51824799]\n",
      "the loss is %f [-314.53385683]\n",
      "the loss is %f [-314.54946071]\n",
      "the loss is %f [-314.56505962]\n",
      "the loss is %f [-314.58065358]\n",
      "the loss is %f [-314.59624259]\n",
      "the loss is %f [-314.61182665]\n",
      "the loss is %f [-314.62740576]\n",
      "the loss is %f [-314.64297992]\n"
     ]
    }
   ],
   "source": [
    "solver = Solver(model, X,\n",
    "                          update_rule='sgd',\n",
    "                          optim_config={\n",
    "                            'learning_rate': 1e-4,\n",
    "                          },\n",
    "                          \n",
    "                          num_epochs=100, batch_size=1,\n",
    "                          print_every=10)\n",
    "solver.train()"
   ]
  },
  {
   "cell_type": "code",
   "execution_count": 4,
   "metadata": {
    "collapsed": false
   },
   "outputs": [
    {
     "name": "stdout",
     "output_type": "stream",
     "text": [
      "{'phi': array([[-0.97598597],\n",
      "       [ 2.68927038]]), 'intercept': array([ 0.28701043]), 'sigma': array([ 24.64443235])}\n"
     ]
    }
   ],
   "source": [
    "print model.params"
   ]
  },
  {
   "cell_type": "code",
   "execution_count": 5,
   "metadata": {
    "collapsed": false
   },
   "outputs": [],
   "source": [
    "data = np.loadtxt(\"../data/SP500array.csv\", delimiter=',')"
   ]
  },
  {
   "cell_type": "code",
   "execution_count": 6,
   "metadata": {
    "collapsed": false
   },
   "outputs": [
    {
     "name": "stdout",
     "output_type": "stream",
     "text": [
      "100\n",
      "the loss is %f [-23734659.47246086]\n",
      "the loss is %f [-292721.61035795]\n",
      "the loss is %f [-310017.81954523]\n",
      "the loss is %f [-328681.52817802]\n",
      "the loss is %f [-348867.55153327]\n",
      "the loss is %f [-370755.53478202]\n",
      "the loss is %f [-394555.29589351]\n",
      "the loss is %f [-420513.64125614]\n",
      "the loss is %f [-448923.15830532]\n",
      "the loss is %f [-480133.6995575]\n"
     ]
    }
   ],
   "source": [
    "X = data[:,1].reshape(1,-1)\n",
    "solver = Solver(model, X,\n",
    "                          update_rule='sgd',\n",
    "                          optim_config={\n",
    "                            'learning_rate': 1e-4,\n",
    "                          },\n",
    "                          \n",
    "                          num_epochs=100, batch_size=1,\n",
    "                          print_every=10)\n",
    "solver.train()"
   ]
  },
  {
   "cell_type": "code",
   "execution_count": 7,
   "metadata": {
    "collapsed": false
   },
   "outputs": [
    {
     "name": "stdout",
     "output_type": "stream",
     "text": [
      "{'phi': array([[ 132.09456297],\n",
      "       [ 135.765476  ]]), 'intercept': array([ 2.51851322]), 'sigma': array([ 357.68609409])}\n"
     ]
    }
   ],
   "source": [
    "print model.params"
   ]
  },
  {
   "cell_type": "code",
   "execution_count": null,
   "metadata": {
    "collapsed": true
   },
   "outputs": [],
   "source": []
  }
 ],
 "metadata": {
  "anaconda-cloud": {},
  "kernelspec": {
   "display_name": "Python [default]",
   "language": "python",
   "name": "python2"
  },
  "language_info": {
   "codemirror_mode": {
    "name": "ipython",
    "version": 2
   },
   "file_extension": ".py",
   "mimetype": "text/x-python",
   "name": "python",
   "nbconvert_exporter": "python",
   "pygments_lexer": "ipython2",
   "version": "2.7.12"
  }
 },
 "nbformat": 4,
 "nbformat_minor": 1
}
